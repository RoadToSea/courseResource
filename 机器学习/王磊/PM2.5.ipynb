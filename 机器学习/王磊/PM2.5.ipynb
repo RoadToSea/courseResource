{
 "cells": [
  {
   "cell_type": "markdown",
   "metadata": {
    "collapsed": false
   },
   "source": [
    "# 一、实验说明\n",
    "参考https://github.com/Iallen520/lhy_DL_Hw/blob/master/hw1_regression.ipynb"
   ]
  },
  {
   "cell_type": "markdown",
   "metadata": {
    "collapsed": false
   },
   "source": [
    "给定训练集train.csv，测试集test.csv，要求根据前9个小时的空气检测情况预测第10个小时的PM2.5含量\n",
    "\n"
   ]
  },
  {
   "cell_type": "markdown",
   "metadata": {
    "collapsed": false
   },
   "source": [
    "要求：\n",
    "\n",
    "现在给出的代码是这个问题的baseline，请大家：\n",
    "\n",
    "1. 给出代码注释；\n",
    "\n",
    "2. 想办法优化算法的结果。\n",
    "\n",
    "3.有条件的同学，请使用这个地址参加对应的kaggle比赛 https://www.kaggle.com/c/ml2020spring-hw1/overview \n",
    "将参赛的结果页面截图粘贴到提交的代码notebook最下方。\n",
    "\n",
    "4. 如果无法参加kaggle比赛，请修改代码，将数据集的trainning data的10%切分为测试集。进行测试。注意训练集和测试集数据不能共用。\n",
    "\n"
   ]
  },
  {
   "cell_type": "markdown",
   "metadata": {
    "collapsed": false
   },
   "source": [
    "# 二、训练集介绍"
   ]
  },
  {
   "cell_type": "markdown",
   "metadata": {
    "collapsed": false
   },
   "source": [
    "1. CSV文件，包含台湾丰原地区240天的气象观测资料，取每个月前20天的数据做训练集，每月后10天数据用于测试；\n",
    "2. 每天的监测时间点为0时，1时......到23时，共24个时间节点；\n",
    "3. 每天的检测指标包括CO、NO、PM2.5、PM10等气体浓度，是否降雨、刮风等气象信息，共计18项；\n"
   ]
  },
  {
   "cell_type": "markdown",
   "metadata": {
    "collapsed": false
   },
   "source": [
    "- train.csv部分数据展示"
   ]
  },
  {
   "cell_type": "markdown",
   "metadata": {
    "collapsed": false
   },
   "source": [
    "![jupyter](./img/traindata_eg.png)"
   ]
  },
  {
   "cell_type": "code",
   "execution_count": 1,
   "metadata": {
    "collapsed": false
   },
   "outputs": [],
   "source": [
    "import sys\n",
    "import pandas as pd\n",
    "import numpy as np\n",
    "from sklearn.model_selection import train_test_split  # 引入train_test_split用于数据切分"
   ]
  },
  {
   "cell_type": "markdown",
   "metadata": {
    "collapsed": false
   },
   "source": [
    "# 三、数据预处理"
   ]
  },
  {
   "cell_type": "markdown",
   "metadata": {
    "collapsed": false
   },
   "source": [
    "浏览数据可知，数据中存在一定量的空数据NR，且多存在于RAINFALL一项。RAINFALL表示当天对应时间点是否降雨，有降雨值为1，无降雨值为NR，类似于布尔变量。因此将空数据NR全部补为0即可"
   ]
  },
  {
   "cell_type": "code",
   "execution_count": 2,
   "metadata": {
    "collapsed": false
   },
   "outputs": [],
   "source": [
    "data = pd.read_csv('/home/aistudio/data/data27964/train.csv', encoding = 'big5' ) # 读取结果的结构是DataFrame"
   ]
  },
  {
   "cell_type": "markdown",
   "metadata": {
    "collapsed": false
   },
   "source": [
    "- Pandas里主要数据结构包含DataFrame（二维表），如上打印结果，有行有列。但标准说法行（索引），列（标签）"
   ]
  },
  {
   "cell_type": "code",
   "execution_count": 3,
   "metadata": {
    "collapsed": false
   },
   "outputs": [
    {
     "data": {
      "text/html": [
       "<div>\n",
       "<style scoped>\n",
       "    .dataframe tbody tr th:only-of-type {\n",
       "        vertical-align: middle;\n",
       "    }\n",
       "\n",
       "    .dataframe tbody tr th {\n",
       "        vertical-align: top;\n",
       "    }\n",
       "\n",
       "    .dataframe thead th {\n",
       "        text-align: right;\n",
       "    }\n",
       "</style>\n",
       "<table border=\"1\" class=\"dataframe\">\n",
       "  <thead>\n",
       "    <tr style=\"text-align: right;\">\n",
       "      <th></th>\n",
       "      <th>0</th>\n",
       "      <th>1</th>\n",
       "      <th>2</th>\n",
       "      <th>3</th>\n",
       "      <th>4</th>\n",
       "      <th>5</th>\n",
       "      <th>6</th>\n",
       "      <th>7</th>\n",
       "      <th>8</th>\n",
       "      <th>9</th>\n",
       "      <th>...</th>\n",
       "      <th>14</th>\n",
       "      <th>15</th>\n",
       "      <th>16</th>\n",
       "      <th>17</th>\n",
       "      <th>18</th>\n",
       "      <th>19</th>\n",
       "      <th>20</th>\n",
       "      <th>21</th>\n",
       "      <th>22</th>\n",
       "      <th>23</th>\n",
       "    </tr>\n",
       "  </thead>\n",
       "  <tbody>\n",
       "    <tr>\n",
       "      <th>0</th>\n",
       "      <td>14</td>\n",
       "      <td>14</td>\n",
       "      <td>14</td>\n",
       "      <td>13</td>\n",
       "      <td>12</td>\n",
       "      <td>12</td>\n",
       "      <td>12</td>\n",
       "      <td>12</td>\n",
       "      <td>15</td>\n",
       "      <td>17</td>\n",
       "      <td>...</td>\n",
       "      <td>22</td>\n",
       "      <td>22</td>\n",
       "      <td>21</td>\n",
       "      <td>19</td>\n",
       "      <td>17</td>\n",
       "      <td>16</td>\n",
       "      <td>15</td>\n",
       "      <td>15</td>\n",
       "      <td>15</td>\n",
       "      <td>15</td>\n",
       "    </tr>\n",
       "    <tr>\n",
       "      <th>1</th>\n",
       "      <td>1.8</td>\n",
       "      <td>1.8</td>\n",
       "      <td>1.8</td>\n",
       "      <td>1.8</td>\n",
       "      <td>1.8</td>\n",
       "      <td>1.8</td>\n",
       "      <td>1.8</td>\n",
       "      <td>1.8</td>\n",
       "      <td>1.8</td>\n",
       "      <td>1.8</td>\n",
       "      <td>...</td>\n",
       "      <td>1.8</td>\n",
       "      <td>1.8</td>\n",
       "      <td>1.8</td>\n",
       "      <td>1.8</td>\n",
       "      <td>1.8</td>\n",
       "      <td>1.8</td>\n",
       "      <td>1.8</td>\n",
       "      <td>1.8</td>\n",
       "      <td>1.8</td>\n",
       "      <td>1.8</td>\n",
       "    </tr>\n",
       "    <tr>\n",
       "      <th>2</th>\n",
       "      <td>0.51</td>\n",
       "      <td>0.41</td>\n",
       "      <td>0.39</td>\n",
       "      <td>0.37</td>\n",
       "      <td>0.35</td>\n",
       "      <td>0.3</td>\n",
       "      <td>0.37</td>\n",
       "      <td>0.47</td>\n",
       "      <td>0.78</td>\n",
       "      <td>0.74</td>\n",
       "      <td>...</td>\n",
       "      <td>0.37</td>\n",
       "      <td>0.37</td>\n",
       "      <td>0.47</td>\n",
       "      <td>0.69</td>\n",
       "      <td>0.56</td>\n",
       "      <td>0.45</td>\n",
       "      <td>0.38</td>\n",
       "      <td>0.35</td>\n",
       "      <td>0.36</td>\n",
       "      <td>0.32</td>\n",
       "    </tr>\n",
       "    <tr>\n",
       "      <th>3</th>\n",
       "      <td>0.2</td>\n",
       "      <td>0.15</td>\n",
       "      <td>0.13</td>\n",
       "      <td>0.12</td>\n",
       "      <td>0.11</td>\n",
       "      <td>0.06</td>\n",
       "      <td>0.1</td>\n",
       "      <td>0.13</td>\n",
       "      <td>0.26</td>\n",
       "      <td>0.23</td>\n",
       "      <td>...</td>\n",
       "      <td>0.1</td>\n",
       "      <td>0.13</td>\n",
       "      <td>0.14</td>\n",
       "      <td>0.23</td>\n",
       "      <td>0.18</td>\n",
       "      <td>0.12</td>\n",
       "      <td>0.1</td>\n",
       "      <td>0.09</td>\n",
       "      <td>0.1</td>\n",
       "      <td>0.08</td>\n",
       "    </tr>\n",
       "    <tr>\n",
       "      <th>4</th>\n",
       "      <td>0.9</td>\n",
       "      <td>0.6</td>\n",
       "      <td>0.5</td>\n",
       "      <td>1.7</td>\n",
       "      <td>1.8</td>\n",
       "      <td>1.5</td>\n",
       "      <td>1.9</td>\n",
       "      <td>2.2</td>\n",
       "      <td>6.6</td>\n",
       "      <td>7.9</td>\n",
       "      <td>...</td>\n",
       "      <td>2.5</td>\n",
       "      <td>2.2</td>\n",
       "      <td>2.5</td>\n",
       "      <td>2.3</td>\n",
       "      <td>2.1</td>\n",
       "      <td>1.9</td>\n",
       "      <td>1.5</td>\n",
       "      <td>1.6</td>\n",
       "      <td>1.8</td>\n",
       "      <td>1.5</td>\n",
       "    </tr>\n",
       "    <tr>\n",
       "      <th>...</th>\n",
       "      <td>...</td>\n",
       "      <td>...</td>\n",
       "      <td>...</td>\n",
       "      <td>...</td>\n",
       "      <td>...</td>\n",
       "      <td>...</td>\n",
       "      <td>...</td>\n",
       "      <td>...</td>\n",
       "      <td>...</td>\n",
       "      <td>...</td>\n",
       "      <td>...</td>\n",
       "      <td>...</td>\n",
       "      <td>...</td>\n",
       "      <td>...</td>\n",
       "      <td>...</td>\n",
       "      <td>...</td>\n",
       "      <td>...</td>\n",
       "      <td>...</td>\n",
       "      <td>...</td>\n",
       "      <td>...</td>\n",
       "      <td>...</td>\n",
       "    </tr>\n",
       "    <tr>\n",
       "      <th>4315</th>\n",
       "      <td>1.8</td>\n",
       "      <td>1.8</td>\n",
       "      <td>1.8</td>\n",
       "      <td>1.8</td>\n",
       "      <td>1.8</td>\n",
       "      <td>1.7</td>\n",
       "      <td>1.7</td>\n",
       "      <td>1.8</td>\n",
       "      <td>1.8</td>\n",
       "      <td>1.8</td>\n",
       "      <td>...</td>\n",
       "      <td>1.8</td>\n",
       "      <td>1.8</td>\n",
       "      <td>2</td>\n",
       "      <td>2.1</td>\n",
       "      <td>2</td>\n",
       "      <td>1.9</td>\n",
       "      <td>1.9</td>\n",
       "      <td>1.9</td>\n",
       "      <td>2</td>\n",
       "      <td>2</td>\n",
       "    </tr>\n",
       "    <tr>\n",
       "      <th>4316</th>\n",
       "      <td>46</td>\n",
       "      <td>13</td>\n",
       "      <td>61</td>\n",
       "      <td>44</td>\n",
       "      <td>55</td>\n",
       "      <td>68</td>\n",
       "      <td>66</td>\n",
       "      <td>70</td>\n",
       "      <td>66</td>\n",
       "      <td>85</td>\n",
       "      <td>...</td>\n",
       "      <td>59</td>\n",
       "      <td>308</td>\n",
       "      <td>327</td>\n",
       "      <td>21</td>\n",
       "      <td>100</td>\n",
       "      <td>109</td>\n",
       "      <td>108</td>\n",
       "      <td>114</td>\n",
       "      <td>108</td>\n",
       "      <td>109</td>\n",
       "    </tr>\n",
       "    <tr>\n",
       "      <th>4317</th>\n",
       "      <td>36</td>\n",
       "      <td>55</td>\n",
       "      <td>72</td>\n",
       "      <td>327</td>\n",
       "      <td>74</td>\n",
       "      <td>52</td>\n",
       "      <td>59</td>\n",
       "      <td>83</td>\n",
       "      <td>106</td>\n",
       "      <td>105</td>\n",
       "      <td>...</td>\n",
       "      <td>18</td>\n",
       "      <td>311</td>\n",
       "      <td>52</td>\n",
       "      <td>54</td>\n",
       "      <td>121</td>\n",
       "      <td>97</td>\n",
       "      <td>107</td>\n",
       "      <td>118</td>\n",
       "      <td>100</td>\n",
       "      <td>105</td>\n",
       "    </tr>\n",
       "    <tr>\n",
       "      <th>4318</th>\n",
       "      <td>1.9</td>\n",
       "      <td>2.4</td>\n",
       "      <td>1.9</td>\n",
       "      <td>2.8</td>\n",
       "      <td>2.3</td>\n",
       "      <td>1.9</td>\n",
       "      <td>2.1</td>\n",
       "      <td>3.7</td>\n",
       "      <td>2.8</td>\n",
       "      <td>3.8</td>\n",
       "      <td>...</td>\n",
       "      <td>2.3</td>\n",
       "      <td>2.6</td>\n",
       "      <td>1.3</td>\n",
       "      <td>1</td>\n",
       "      <td>1.5</td>\n",
       "      <td>1</td>\n",
       "      <td>1.7</td>\n",
       "      <td>1.5</td>\n",
       "      <td>2</td>\n",
       "      <td>2</td>\n",
       "    </tr>\n",
       "    <tr>\n",
       "      <th>4319</th>\n",
       "      <td>0.7</td>\n",
       "      <td>0.8</td>\n",
       "      <td>1.8</td>\n",
       "      <td>1</td>\n",
       "      <td>1.9</td>\n",
       "      <td>1.7</td>\n",
       "      <td>2.1</td>\n",
       "      <td>2</td>\n",
       "      <td>2</td>\n",
       "      <td>1.7</td>\n",
       "      <td>...</td>\n",
       "      <td>1.3</td>\n",
       "      <td>1.7</td>\n",
       "      <td>0.7</td>\n",
       "      <td>0.4</td>\n",
       "      <td>1.1</td>\n",
       "      <td>1.4</td>\n",
       "      <td>1.3</td>\n",
       "      <td>1.6</td>\n",
       "      <td>1.8</td>\n",
       "      <td>2</td>\n",
       "    </tr>\n",
       "  </tbody>\n",
       "</table>\n",
       "<p>4320 rows × 24 columns</p>\n",
       "</div>"
      ],
      "text/plain": [
       "         0     1     2     3     4     5     6     7     8     9  ...    14  \\\n",
       "0       14    14    14    13    12    12    12    12    15    17  ...    22   \n",
       "1      1.8   1.8   1.8   1.8   1.8   1.8   1.8   1.8   1.8   1.8  ...   1.8   \n",
       "2     0.51  0.41  0.39  0.37  0.35   0.3  0.37  0.47  0.78  0.74  ...  0.37   \n",
       "3      0.2  0.15  0.13  0.12  0.11  0.06   0.1  0.13  0.26  0.23  ...   0.1   \n",
       "4      0.9   0.6   0.5   1.7   1.8   1.5   1.9   2.2   6.6   7.9  ...   2.5   \n",
       "...    ...   ...   ...   ...   ...   ...   ...   ...   ...   ...  ...   ...   \n",
       "4315   1.8   1.8   1.8   1.8   1.8   1.7   1.7   1.8   1.8   1.8  ...   1.8   \n",
       "4316    46    13    61    44    55    68    66    70    66    85  ...    59   \n",
       "4317    36    55    72   327    74    52    59    83   106   105  ...    18   \n",
       "4318   1.9   2.4   1.9   2.8   2.3   1.9   2.1   3.7   2.8   3.8  ...   2.3   \n",
       "4319   0.7   0.8   1.8     1   1.9   1.7   2.1     2     2   1.7  ...   1.3   \n",
       "\n",
       "        15    16    17    18    19    20    21    22    23  \n",
       "0       22    21    19    17    16    15    15    15    15  \n",
       "1      1.8   1.8   1.8   1.8   1.8   1.8   1.8   1.8   1.8  \n",
       "2     0.37  0.47  0.69  0.56  0.45  0.38  0.35  0.36  0.32  \n",
       "3     0.13  0.14  0.23  0.18  0.12   0.1  0.09   0.1  0.08  \n",
       "4      2.2   2.5   2.3   2.1   1.9   1.5   1.6   1.8   1.5  \n",
       "...    ...   ...   ...   ...   ...   ...   ...   ...   ...  \n",
       "4315   1.8     2   2.1     2   1.9   1.9   1.9     2     2  \n",
       "4316   308   327    21   100   109   108   114   108   109  \n",
       "4317   311    52    54   121    97   107   118   100   105  \n",
       "4318   2.6   1.3     1   1.5     1   1.7   1.5     2     2  \n",
       "4319   1.7   0.7   0.4   1.1   1.4   1.3   1.6   1.8     2  \n",
       "\n",
       "[4320 rows x 24 columns]"
      ]
     },
     "execution_count": 3,
     "metadata": {},
     "output_type": "execute_result"
    }
   ],
   "source": [
    "# panda里利用iloc选取数据，从0开始。iloc（行，列）\n",
    "# 当前选取从第三列开始的所有数据\n",
    "data = data.iloc[:, 3:]\n",
    "data[data=='NR'] = 0\n",
    "data"
   ]
  },
  {
   "cell_type": "code",
   "execution_count": 4,
   "metadata": {
    "collapsed": false
   },
   "outputs": [],
   "source": [
    "raw_data = np.array(data) # DataFrame转换成numpy数组"
   ]
  },
  {
   "cell_type": "code",
   "execution_count": 5,
   "metadata": {
    "collapsed": false
   },
   "outputs": [
    {
     "name": "stdout",
     "output_type": "stream",
     "text": [
      "(4320, 24)\n"
     ]
    }
   ],
   "source": [
    "print(raw_data.shape)"
   ]
  },
  {
   "cell_type": "code",
   "execution_count": 6,
   "metadata": {
    "collapsed": false
   },
   "outputs": [
    {
     "name": "stdout",
     "output_type": "stream",
     "text": [
      "[['14' '14' '14' ... '15' '15' '15']\n",
      " ['1.8' '1.8' '1.8' ... '1.8' '1.8' '1.8']\n",
      " ['0.51' '0.41' '0.39' ... '0.35' '0.36' '0.32']\n",
      " ...\n",
      " ['36' '55' '72' ... '118' '100' '105']\n",
      " ['1.9' '2.4' '1.9' ... '1.5' '2' '2']\n",
      " ['0.7' '0.8' '1.8' ... '1.6' '1.8' '2']]\n"
     ]
    }
   ],
   "source": [
    "print(raw_data)"
   ]
  },
  {
   "cell_type": "markdown",
   "metadata": {
    "collapsed": false
   },
   "source": [
    "# 四、特征提取"
   ]
  },
  {
   "cell_type": "markdown",
   "metadata": {
    "collapsed": false
   },
   "source": [
    "## （1）按月份来处理数据\n",
    "- 针对每20天来说，信息维度[18, 480] (18个feature，20*24=480)\n",
    "- 将原始的数据按照每个月来划分，重组成12个 [18,480]"
   ]
  },
  {
   "cell_type": "code",
   "execution_count": 7,
   "metadata": {
    "collapsed": false
   },
   "outputs": [],
   "source": [
    "month_data = {}  # key: month  value: data\n",
    "for month in range(12):\n",
    "    # 每月数据量\n",
    "    sample = np.empty([18, 480])  # 创建一个空的【18， 480】数组\n",
    "    # 每天数据量\n",
    "    for day in range(20):\n",
    "        # 每天24小时，对应这个18*24小时个数据\n",
    "        sample[:, day * 24 : (day + 1) * 24] = raw_data[18 * (20 * month + day) : 18 * (20 * month + day + 1), :]\n",
    "    month_data[month] = sample"
   ]
  },
  {
   "cell_type": "code",
   "execution_count": 8,
   "metadata": {
    "collapsed": false
   },
   "outputs": [
    {
     "name": "stdout",
     "output_type": "stream",
     "text": [
      "[[14.   14.   14.   ... 14.   13.   13.  ]\n",
      " [ 1.8   1.8   1.8  ...  1.8   1.8   1.8 ]\n",
      " [ 0.51  0.41  0.39 ...  0.34  0.41  0.43]\n",
      " ...\n",
      " [35.   79.    2.4  ... 48.   63.   53.  ]\n",
      " [ 1.4   1.8   1.   ...  1.1   1.9   1.9 ]\n",
      " [ 0.5   0.9   0.6  ...  1.2   1.2   1.3 ]]\n"
     ]
    }
   ],
   "source": [
    "# 以第一个月为例\n",
    "print(month_data[0])"
   ]
  },
  {
   "cell_type": "markdown",
   "metadata": {
    "collapsed": false
   },
   "source": [
    "## （2）扩充数据集，获取更好的训练效果\n",
    "- 根据实验要求，需要用连续9个时间点的数据预测第10个时间点的PM2.5。 而每个月采取的是前20天连续的数据，可以扩展成480小时的连续数据；\n",
    "- 具体做法，每个月的第一天的0-8时的数据作为训练数据，9时的数据作标签y；9-17的数据作一个data，18时的数据作标签y.....以此推，每个月480小时，有480-9= 471个data，故此时总数据471 * 12 个；而每个data是18*9"
   ]
  },
  {
   "cell_type": "code",
   "execution_count": 9,
   "metadata": {
    "collapsed": false
   },
   "outputs": [
    {
     "name": "stdout",
     "output_type": "stream",
     "text": [
      "[[14.  14.  14.  ...  2.   2.   0.5]\n",
      " [14.  14.  13.  ...  2.   0.5  0.3]\n",
      " [14.  13.  12.  ...  0.5  0.3  0.8]\n",
      " ...\n",
      " [17.  18.  19.  ...  1.1  1.4  1.3]\n",
      " [18.  19.  18.  ...  1.4  1.3  1.6]\n",
      " [19.  18.  17.  ...  1.3  1.6  1.8]]\n",
      "[[30.]\n",
      " [41.]\n",
      " [44.]\n",
      " ...\n",
      " [17.]\n",
      " [24.]\n",
      " [29.]]\n"
     ]
    }
   ],
   "source": [
    "# 特征和标签矩阵初始化\n",
    "x = np.empty([12 * 471, 18 * 9], dtype = float) # 特征矩阵\n",
    "y = np.empty([12 * 471, 1], dtype = float) # 标签矩阵\n",
    "# 构造特征和标签\n",
    "for month in range(12):\n",
    "    for day in range(20):\n",
    "        for hour in range(24):\n",
    "            # 如果是最后一天， 最后一个包结束， 则返回\n",
    "            if day == 19 and hour > 14:\n",
    "                continue\n",
    "            # reshape将矩阵重整为新的行列数，参数-1代表自动推断,这里去掉了18*9的二维属性，\n",
    "            # 转而以一维序列代替，一维序列的顺序本身可以隐含其时序信息\n",
    "            # 每个小时的十八项数据\n",
    "            x[month * 471 + day * 24 + hour, :] = month_data[month][:,day * 24 + hour : day * 24 + hour + 9].reshape(1, -1) \n",
    "            # pm 值\n",
    "            y[month * 471 + day * 24 + hour, 0] = month_data[month][9, day * 24 + hour + 9] #value\n",
    "print(x)\n",
    "print(y)"
   ]
  },
  {
   "cell_type": "code",
   "execution_count": 10,
   "metadata": {
    "collapsed": false
   },
   "outputs": [],
   "source": [
    "# 数据归一化\n",
    "mean_x = np.mean(x, axis = 0) # 求均值， aix=0表示沿每列计算\n",
    "std_x = np.std(x, axis = 0) # 标准差\n",
    "for i in range(len(x)): \n",
    "    for j in range(len(x[0])): \n",
    "        if std_x[j] != 0:\n",
    "            x[i][j] = (x[i][j] - mean_x[j]) / std_x[j] # 所有属性归一化，避免使数据的某些特征形成主导作用"
   ]
  },
  {
   "cell_type": "code",
   "execution_count": 11,
   "metadata": {
    "collapsed": false
   },
   "outputs": [
    {
     "data": {
      "text/plain": [
       "array([[-1.35825331, -1.35883937, -1.359222  , ...,  0.26650729,\n",
       "         0.2656797 , -1.14082131],\n",
       "       [-1.35825331, -1.35883937, -1.51819928, ...,  0.26650729,\n",
       "        -1.13963133, -1.32832904],\n",
       "       [-1.35825331, -1.51789368, -1.67717656, ..., -1.13923451,\n",
       "        -1.32700613, -0.85955971],\n",
       "       ...,\n",
       "       [-0.88092053, -0.72262212, -0.56433559, ..., -0.57693779,\n",
       "        -0.29644471, -0.39079039],\n",
       "       [-0.7218096 , -0.56356781, -0.72331287, ..., -0.29578943,\n",
       "        -0.39013211, -0.1095288 ],\n",
       "       [-0.56269867, -0.72262212, -0.88229015, ..., -0.38950555,\n",
       "        -0.10906991,  0.07797893]])"
      ]
     },
     "execution_count": 11,
     "metadata": {},
     "output_type": "execute_result"
    }
   ],
   "source": [
    "x"
   ]
  },
  {
   "cell_type": "markdown",
   "metadata": {
    "collapsed": false
   },
   "source": [
    "# 损失函数\n",
    "* 使用最小二乘损失函数（均方误差）来评估模型的预测效果\n",
    "- num = 471*12， 乘 1/2 是为了在后续求梯度过程中保证梯度系数为1，方便计算"
   ]
  },
  {
   "cell_type": "markdown",
   "metadata": {
    "collapsed": false
   },
   "source": [
    "# 学习率更新"
   ]
  },
  {
   "cell_type": "markdown",
   "metadata": {
    "collapsed": false
   },
   "source": [
    "为了在不影响模型效果的前提下提高学习速度，可以对学习率进行实时更新：即让学习率的值在学习初期较大，之后逐渐减小。这里采用比较经典的adagrad算法来更新学习率。"
   ]
  },
  {
   "cell_type": "code",
   "execution_count": 12,
   "metadata": {
    "collapsed": false
   },
   "outputs": [
    {
     "name": "stdout",
     "output_type": "stream",
     "text": [
      "T=0, Loss=362.8063311049941\n",
      "T=500, Loss=147.61495126043522\n",
      "T=1000, Loss=57.46751205761617\n",
      "T=1500, Loss=35.57982054854403\n",
      "T=2000, Loss=26.16381790236294\n",
      "T=2500, Loss=21.596174146465565\n",
      "T=3000, Loss=19.205754662001084\n",
      "T=3500, Loss=17.887427897617584\n",
      "T=4000, Loss=17.132549324951643\n",
      "T=4500, Loss=16.687905150727318\n",
      "T=5000, Loss=16.419998471305956\n",
      "T=5500, Loss=16.255429511808927\n",
      "T=6000, Loss=16.15255491324258\n",
      "T=6500, Loss=16.087167516367597\n",
      "T=7000, Loss=16.044916686599358\n",
      "T=7500, Loss=16.01715230184373\n",
      "T=8000, Loss=15.998583064138996\n",
      "T=8500, Loss=15.985928303011043\n",
      "T=9000, Loss=15.977127907047848\n",
      "T=9500, Loss=15.970872289282473\n",
      "T=10000, Loss=15.96631898576134\n"
     ]
    }
   ],
   "source": [
    "# 切分数据集，将10%数据作为测试集\n",
    "x_train, x_test, y_train, y_test = train_test_split(x, y, test_size=0.1, random_state=42)\n",
    "\n",
    "# 线性回归模型初始化\n",
    "dim = x_train.shape[1] + 1\n",
    "w = np.zeros(shape=(dim, 1))\n",
    "\n",
    "# 添加偏置项\n",
    "x_train = np.concatenate((np.ones((x_train.shape[0], 1)), x_train), axis=1).astype(float)\n",
    "x_test = np.concatenate((np.ones((x_test.shape[0], 1)), x_test), axis=1).astype(float)\n",
    "\n",
    "#初始化学习率(163个参数，163个200)和adagrad\n",
    "learning_rate = np.array([[200]] * dim)\n",
    "adagrad_sum = np.zeros(shape = (dim, 1 ))\n",
    " \n",
    "# 训练模型\n",
    "for T in range(10001):\n",
    "    if T % 500 == 0:\n",
    "        loss = np.sum((x_train.dot(w) - y_train) ** 2) / x_train.shape[0] / 2  # 最小二乘损失\n",
    "        print(f\"T={T}, Loss={loss}\")\n",
    "\n",
    "    gradient = 2 * np.transpose(x_train).dot(x_train.dot(w) - y_train)  # 损失的导数\n",
    "    adagrad_sum += gradient ** 2\n",
    "    w = w - learning_rate * gradient / (np.sqrt(adagrad_sum) + 0.0005)\n",
    "\n",
    "# 保存权重\n",
    "np.save('weight.npy', w)"
   ]
  },
  {
   "cell_type": "code",
   "execution_count": 13,
   "metadata": {
    "collapsed": false
   },
   "outputs": [
    {
     "data": {
      "text/plain": [
       "(163, 1)"
      ]
     },
     "execution_count": 13,
     "metadata": {},
     "output_type": "execute_result"
    }
   ],
   "source": [
    "w.shape"
   ]
  },
  {
   "cell_type": "code",
   "execution_count": 14,
   "metadata": {
    "collapsed": false
   },
   "outputs": [
    {
     "data": {
      "text/plain": [
       "(5652, 162)"
      ]
     },
     "execution_count": 14,
     "metadata": {},
     "output_type": "execute_result"
    }
   ],
   "source": [
    "x.shape"
   ]
  },
  {
   "cell_type": "markdown",
   "metadata": {
    "collapsed": false
   },
   "source": [
    "# 使用模型预测"
   ]
  },
  {
   "cell_type": "code",
   "execution_count": 15,
   "metadata": {
    "collapsed": false
   },
   "outputs": [
    {
     "name": "stderr",
     "output_type": "stream",
     "text": [
      "/opt/conda/envs/python35-paddle120-env/lib/python3.7/site-packages/ipykernel_launcher.py:4: SettingWithCopyWarning: \n",
      "A value is trying to be set on a copy of a slice from a DataFrame.\n",
      "Try using .loc[row_indexer,col_indexer] = value instead\n",
      "\n",
      "See the caveats in the documentation: https://pandas.pydata.org/pandas-docs/stable/user_guide/indexing.html#returning-a-view-versus-a-copy\n",
      "  after removing the cwd from sys.path.\n",
      "/opt/conda/envs/python35-paddle120-env/lib/python3.7/site-packages/pandas/core/frame.py:3093: SettingWithCopyWarning: \n",
      "A value is trying to be set on a copy of a slice from a DataFrame\n",
      "\n",
      "See the caveats in the documentation: https://pandas.pydata.org/pandas-docs/stable/user_guide/indexing.html#returning-a-view-versus-a-copy\n",
      "  self._where(-key, value, inplace=True)\n"
     ]
    }
   ],
   "source": [
    "# 测试数据处理\n",
    "testdata = pd.read_csv('/home/aistudio/data/data27964/test.csv', header=None, encoding='big5')\n",
    "test_data = testdata.iloc[:, 2:]  # 选择测试集的相关数据\n",
    "test_data[test_data == 'NR'] = 0  # 替换缺失值\n"
   ]
  },
  {
   "cell_type": "code",
   "execution_count": 16,
   "metadata": {
    "collapsed": false
   },
   "outputs": [
    {
     "data": {
      "text/plain": [
       "(4320, 9)"
      ]
     },
     "execution_count": 16,
     "metadata": {},
     "output_type": "execute_result"
    }
   ],
   "source": [
    "test_data = np.array(test_data)\n",
    "test_data.shape"
   ]
  },
  {
   "cell_type": "code",
   "execution_count": 17,
   "metadata": {
    "collapsed": false
   },
   "outputs": [],
   "source": [
    "\n",
    "w = np.load('weight.npy')\n",
    "# 构造测试特征矩阵\n",
    "test_x = np.empty(shape=(240, 18 * 9), dtype=float)\n",
    "for i in range(240):\n",
    "    test_x[i, :] = test_data[18 * i : 18 * (i + 1), :].reshape(1, -1)\n",
    "\n",
    "# 测试数据归一化\n",
    "for i in range(test_x.shape[0]):\n",
    "    for j in range(test_x.shape[1]):\n",
    "        if not std_x[j] == 0:\n",
    "            test_x[i][j] = (test_x[i][j] - mean_x[j]) / std_x[j]\n",
    "\n",
    "# 添加偏置项\n",
    "test_x = np.concatenate((np.ones(shape=(test_x.shape[0], 1)), test_x), axis=1).astype(float)"
   ]
  },
  {
   "cell_type": "code",
   "execution_count": 18,
   "metadata": {
    "collapsed": false
   },
   "outputs": [
    {
     "data": {
      "text/plain": [
       "(240, 163)"
      ]
     },
     "execution_count": 18,
     "metadata": {},
     "output_type": "execute_result"
    }
   ],
   "source": [
    "test_x.shape"
   ]
  },
  {
   "cell_type": "code",
   "execution_count": 19,
   "metadata": {
    "collapsed": false
   },
   "outputs": [
    {
     "data": {
      "text/plain": [
       "(163, 1)"
      ]
     },
     "execution_count": 19,
     "metadata": {},
     "output_type": "execute_result"
    }
   ],
   "source": [
    "w.shape"
   ]
  },
  {
   "cell_type": "code",
   "execution_count": 20,
   "metadata": {
    "collapsed": false
   },
   "outputs": [],
   "source": [
    "w = np.load('weight.npy')\n",
    "ans_y = np.dot(test_x, w)"
   ]
  },
  {
   "cell_type": "code",
   "execution_count": 23,
   "metadata": {
    "collapsed": false
   },
   "outputs": [
    {
     "name": "stdout",
     "output_type": "stream",
     "text": [
      "['id', 'value']\n",
      "['id_0', 7.107438020719911]\n",
      "['id_1', 18.654476175271903]\n",
      "['id_2', 24.134872889869182]\n",
      "['id_3', 8.031828071397802]\n",
      "['id_4', 26.763338709408778]\n",
      "['id_5', 22.22411214749645]\n",
      "['id_6', 23.526270942501338]\n",
      "['id_7', 30.271792772410905]\n",
      "['id_8', 16.23273345104239]\n",
      "['id_9', 59.48819113158056]\n",
      "['id_10', 11.679718110399447]\n",
      "['id_11', 9.22279493873073]\n",
      "['id_12', 62.75109352116002]\n",
      "['id_13', 53.87343390571553]\n",
      "['id_14', 21.689985296079534]\n",
      "['id_15', 12.458915341175079]\n",
      "['id_16', 32.06752063997148]\n",
      "['id_17', 67.6353432039682]\n",
      "['id_18', -0.4469226465384629]\n",
      "['id_19', 17.06692678952303]\n",
      "['id_20', 42.05176182861098]\n",
      "['id_21', 71.07685563217751]\n",
      "['id_22', 9.712980450966766]\n",
      "['id_23', 18.068424404735502]\n",
      "['id_24', 14.590673187755222]\n",
      "['id_25', 38.4863705790472]\n",
      "['id_26', 14.398440204614763]\n",
      "['id_27', 69.80512376612637]\n",
      "['id_28', 7.221055490825833]\n",
      "['id_29', 55.67471792271352]\n",
      "['id_30', 24.257341285234656]\n",
      "['id_31', 8.4796990827337]\n",
      "['id_32', 2.6302102053763075]\n",
      "['id_33', 19.312482825695003]\n",
      "['id_34', 28.17897657840038]\n",
      "['id_35', 36.964802289787436]\n",
      "['id_36', 42.89612637381377]\n",
      "['id_37', 29.895813111669028]\n",
      "['id_38', 42.30222165328013]\n",
      "['id_39', 34.70789178280435]\n",
      "['id_40', 7.8066828183123365]\n",
      "['id_41', 41.02153061388927]\n",
      "['id_42', 30.58746083314822]\n",
      "['id_43', 50.9544036575667]\n",
      "['id_44', 17.38054106449904]\n",
      "['id_45', 35.03860185084213]\n",
      "['id_46', 24.94212332446698]\n",
      "['id_47', 9.897336658211316]\n",
      "['id_48', 26.830338377414133]\n",
      "['id_49', 32.12375512038915]\n",
      "['id_50', 20.411664672534684]\n",
      "['id_51', 8.042038144291226]\n",
      "['id_52', 20.548868858845843]\n",
      "['id_53', 52.85630974826491]\n",
      "['id_54', 16.890684171916245]\n",
      "['id_55', 36.626607942587306]\n",
      "['id_56', 32.82540819105996]\n",
      "['id_57', 20.625335235541144]\n",
      "['id_58', 57.2573059602814]\n",
      "['id_59', 22.988670831694346]\n",
      "['id_60', 14.846466205592]\n",
      "['id_61', 41.44734318811167]\n",
      "['id_62', 12.249387883966259]\n",
      "['id_63', 48.33116074541208]\n",
      "['id_64', 13.956998652213695]\n",
      "['id_65', 15.258622275799107]\n",
      "['id_66', 14.454550532960385]\n",
      "['id_67', -1.2829110493360751]\n",
      "['id_68', 44.36664337123834]\n",
      "['id_69', 29.883847524239936]\n",
      "['id_70', 20.911679713887754]\n",
      "['id_71', 41.321515257888485]\n",
      "['id_72', 60.58303938508187]\n",
      "['id_73', 5.257843045693123]\n",
      "['id_74', 16.482307590551002]\n",
      "['id_75', 3.7367245835115757]\n",
      "['id_76', 40.02921394320354]\n",
      "['id_77', 14.52557575682846]\n",
      "['id_78', 21.894461354208623]\n",
      "['id_79', 20.988068400491656]\n",
      "['id_80', 24.25856678652295]\n",
      "['id_81', 37.081070321331815]\n",
      "['id_82', 21.67785085329346]\n",
      "['id_83', 91.64500217620954]\n",
      "['id_84', 37.11909388233564]\n",
      "['id_85', 27.633765719680365]\n",
      "['id_86', 22.094629900475447]\n",
      "['id_87', 34.42698810210822]\n",
      "['id_88', 22.866996898602316]\n",
      "['id_89', 19.50646541335357]\n",
      "['id_90', 28.855477397930958]\n",
      "['id_91', 41.683747780515446]\n",
      "['id_92', 5.056532204461159]\n",
      "['id_93', 39.08633160192282]\n",
      "['id_94', 45.99875718588419]\n",
      "['id_95', 16.48519911338947]\n",
      "['id_96', 31.65372790842335]\n",
      "['id_97', 12.562708284294873]\n",
      "['id_98', 23.75142356996056]\n",
      "['id_99', 4.424487734380752]\n",
      "['id_100', 18.37929353607336]\n",
      "['id_101', 26.57729343650765]\n",
      "['id_102', 14.001878043062007]\n",
      "['id_103', 15.507642991697793]\n",
      "['id_104', 24.15748615492947]\n",
      "['id_105', 40.298237906709964]\n",
      "['id_106', 31.11709362040098]\n",
      "['id_107', 6.9955311871608945]\n",
      "['id_108', 6.153646400171763]\n",
      "['id_109', 78.53871444815802]\n",
      "['id_110', 47.92000711719344]\n",
      "['id_111', 16.743003441279253]\n",
      "['id_112', 27.24631256888621]\n",
      "['id_113', 15.191750721048054]\n",
      "['id_114', 14.108694301526347]\n",
      "['id_115', 24.452014868665792]\n",
      "['id_116', 26.045258490761253]\n",
      "['id_117', 11.24247378454424]\n",
      "['id_118', 17.800726836260182]\n",
      "['id_119', 19.559572962455604]\n",
      "['id_120', 80.19670844545603]\n",
      "['id_121', 25.737622154434224]\n",
      "['id_122', 36.970226748991536]\n",
      "['id_123', 25.0858343281859]\n",
      "['id_124', 7.695024138809185]\n",
      "['id_125', 39.02403562200042]\n",
      "['id_126', 9.954891484191624]\n",
      "['id_127', 22.03828948666802]\n",
      "['id_128', 29.540821463805447]\n",
      "['id_129', 63.83735273150378]\n",
      "['id_130', 22.107893929539394]\n",
      "['id_131', 22.812282739743697]\n",
      "['id_132', 58.57891804996388]\n",
      "['id_133', 16.050186130294207]\n",
      "['id_134', 14.309301430507873]\n",
      "['id_135', 2.0098105049986454]\n",
      "['id_136', 12.043011093584536]\n",
      "['id_137', 58.6010435112158]\n",
      "['id_138', 19.65334875124549]\n",
      "['id_139', 4.7328245264567945]\n",
      "['id_140', 28.16076771370125]\n",
      "['id_141', 25.40382582910629]\n",
      "['id_142', 45.24949828403757]\n",
      "['id_143', 30.68331641988423]\n",
      "['id_144', 18.559522376844786]\n",
      "['id_145', 26.383434325994738]\n",
      "['id_146', 11.814600177559784]\n",
      "['id_147', 51.362419581964126]\n",
      "['id_148', 22.965911294482957]\n",
      "['id_149', 37.904885356124765]\n",
      "['id_150', 10.285909362135389]\n",
      "['id_151', 8.274528056261333]\n",
      "['id_152', 22.751389696602427]\n",
      "['id_153', 6.661232317376798]\n",
      "['id_154', 15.566080553525904]\n",
      "['id_155', 41.12684399766806]\n",
      "['id_156', 7.589538656635647]\n",
      "['id_157', 36.262201481146555]\n",
      "['id_158', 11.546607634178324]\n",
      "['id_159', 18.700336664066985]\n",
      "['id_160', 41.841006218612186]\n",
      "['id_161', 19.524625093748092]\n",
      "['id_162', 13.277141122447471]\n",
      "['id_163', 8.132881667129267]\n",
      "['id_164', 52.84550944396584]\n",
      "['id_165', 31.00082568364481]\n",
      "['id_166', -1.2896108465491318]\n",
      "['id_167', 15.952911631675406]\n",
      "['id_168', 64.0296135873994]\n",
      "['id_169', 14.061255740634959]\n",
      "['id_170', 64.0817591557722]\n",
      "['id_171', 39.63780447267255]\n",
      "['id_172', 26.70324002140661]\n",
      "['id_173', 20.716936622220285]\n",
      "['id_174', 61.14146775256415]\n",
      "['id_175', 24.53601139728414]\n",
      "['id_176', 21.72224581366692]\n",
      "['id_177', 37.43529207108745]\n",
      "['id_178', 12.927778178863816]\n",
      "['id_179', 31.13110691405086]\n",
      "['id_180', 16.750785215553513]\n",
      "['id_181', 11.704413111224968]\n",
      "['id_182', 56.18233489085026]\n",
      "['id_183', 45.444452432622235]\n",
      "['id_184', 15.556093554949483]\n",
      "['id_185', 35.211375031830606]\n",
      "['id_186', 26.739107725470262]\n",
      "['id_187', 68.86990031737346]\n",
      "['id_188', 9.453840932337393]\n",
      "['id_189', 58.653870664685634]\n",
      "['id_190', 38.7369189835594]\n",
      "['id_191', 16.223488991208395]\n",
      "['id_192', 28.76022054838014]\n",
      "['id_193', 0.16372677730480342]\n",
      "['id_194', 19.56055970902579]\n",
      "['id_195', 1.2584790200944707]\n",
      "['id_196', 33.9763168889579]\n",
      "['id_197', 10.605215302632343]\n",
      "['id_198', 19.296048222926693]\n",
      "['id_199', 59.861623703582374]\n",
      "['id_200', 25.805848280553157]\n",
      "['id_201', 24.136842580761492]\n",
      "['id_202', 64.23305029832828]\n",
      "['id_203', 10.44766784730614]\n",
      "['id_204', 9.506223692799512]\n",
      "['id_205', 10.810255921584599]\n",
      "['id_206', 7.438543885048861]\n",
      "['id_207', 2.1299660864318604]\n",
      "['id_208', 124.21766855135897]\n",
      "['id_209', 20.459125815834398]\n",
      "['id_210', 16.427852783536785]\n",
      "['id_211', 13.9103933421713]\n",
      "['id_212', 36.62790745626809]\n",
      "['id_213', 35.52724970370118]\n",
      "['id_214', 18.275386363157132]\n",
      "['id_215', 34.36180224720078]\n",
      "['id_216', 78.27853824783269]\n",
      "['id_217', 0.879033606019425]\n",
      "['id_218', 13.095471278703332]\n",
      "['id_219', 31.806058851147355]\n",
      "['id_220', 14.688923040359892]\n",
      "['id_221', 13.529568981065703]\n",
      "['id_222', 112.37151405012366]\n",
      "['id_223', 13.559114928019037]\n",
      "['id_224', 16.32377264702983]\n",
      "['id_225', 64.44854590925956]\n",
      "['id_226', 15.70078828310923]\n",
      "['id_227', 18.36723323658301]\n",
      "['id_228', 10.157509518530425]\n",
      "['id_229', 3.151287302660517]\n",
      "['id_230', 46.78435246864793]\n",
      "['id_231', 12.399849712032006]\n",
      "['id_232', 53.68331601999227]\n",
      "['id_233', 42.069850006477665]\n",
      "['id_234', 25.299277019786384]\n",
      "['id_235', 40.917651604566665]\n",
      "['id_236', 68.67884106832211]\n",
      "['id_237', 41.96714041194899]\n",
      "['id_238', 11.767208851370318]\n",
      "['id_239', 18.32494533834673]\n"
     ]
    }
   ],
   "source": [
    "# 保存结果到文件\n",
    "import csv\n",
    "with open('submit.csv', mode='w', newline='') as submit_file:\n",
    "    csv_writer = csv.writer(submit_file)\n",
    "    header = ['id', 'value']\n",
    "    print(header)\n",
    "    csv_writer.writerow(header)\n",
    "    for i in range(240):\n",
    "        row = ['id_' + str(i), ans_y[i][0]]\n",
    "        csv_writer.writerow(row)\n",
    "        print(row)"
   ]
  },
  {
   "cell_type": "code",
   "execution_count": null,
   "metadata": {
    "collapsed": false
   },
   "outputs": [],
   "source": []
  },
  {
   "cell_type": "code",
   "execution_count": null,
   "metadata": {
    "collapsed": false
   },
   "outputs": [],
   "source": []
  }
 ],
 "metadata": {
  "kernelspec": {
   "display_name": "Python 3",
   "language": "python",
   "name": "py35-paddle1.2.0"
  },
  "language_info": {
   "codemirror_mode": {
    "name": "ipython",
    "version": 3
   },
   "file_extension": ".py",
   "mimetype": "text/x-python",
   "name": "python",
   "nbconvert_exporter": "python",
   "pygments_lexer": "ipython3",
   "version": "3.7.4"
  }
 },
 "nbformat": 4,
 "nbformat_minor": 1
}
