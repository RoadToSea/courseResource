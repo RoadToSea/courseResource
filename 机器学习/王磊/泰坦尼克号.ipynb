{
 "cells": [
  {
   "cell_type": "markdown",
   "metadata": {
    "collapsed": false
   },
   "source": [
    "以下代码参考自网络\n",
    "* https://blog.csdn.net/aicanghai_smile/article/details/79234172\n",
    "* https://www.jianshu.com/p/9a5bce0de13f\n",
    "* https://www.kaggle.com/c/titanic/data\n",
    "经过少量修改"
   ]
  },
  {
   "cell_type": "markdown",
   "metadata": {
    "collapsed": false
   },
   "source": [
    "数据介绍：\n",
    "* PassengerId:乘客ID\n",
    "* Survived:是否获救\n",
    "* Pclass:乘客等级\n",
    "* Name:乘客姓名\n",
    "* Sex:性别\n",
    "* Age:年龄\n",
    "* SibSp:堂兄弟妹个数\n",
    "* Parch:父母与小孩个数\n",
    "* Ticket:船票信息\n",
    "* Fare:票价\n",
    "* Cabin:客舱\n",
    "* Embarked:登船港口\n"
   ]
  },
  {
   "cell_type": "markdown",
   "metadata": {
    "collapsed": false
   },
   "source": [
    "## 实验要求\n",
    "请给部分代码加上注释"
   ]
  },
  {
   "cell_type": "code",
   "execution_count": 1,
   "metadata": {
    "collapsed": false
   },
   "outputs": [
    {
     "name": "stdout",
     "output_type": "stream",
     "text": [
      "data6374\r\n"
     ]
    }
   ],
   "source": [
    "# 查看当前挂载的数据集目录, 该目录下的变更重启环境后会自动还原\n",
    "# View dataset directory. This directory will be recovered automatically after resetting environment. \n",
    "!ls /home/aistudio/data"
   ]
  },
  {
   "cell_type": "code",
   "execution_count": 2,
   "metadata": {
    "collapsed": false
   },
   "outputs": [],
   "source": [
    "# 查看工作区文件, 该目录下的变更将会持久保存. 请及时清理不必要的文件, 避免加载过慢.\n",
    "# View personal work directory. All changes under this directory will be kept even after reset. Please clean unnecessary files in time to speed up environment loading.\n",
    "!ls /home/aistudio/work"
   ]
  },
  {
   "cell_type": "code",
   "execution_count": 3,
   "metadata": {
    "collapsed": false
   },
   "outputs": [
    {
     "name": "stdout",
     "output_type": "stream",
     "text": [
      "Looking in indexes: https://mirrors.aliyun.com/pypi/simple\n",
      "Requirement already satisfied: seaborn in /opt/conda/envs/python35-paddle120-env/lib/python3.7/site-packages (0.10.0)\n",
      "Requirement already satisfied: matplotlib>=2.1.2 in /opt/conda/envs/python35-paddle120-env/lib/python3.7/site-packages (from seaborn) (2.2.3)\n",
      "Requirement already satisfied: pandas>=0.22.0 in /opt/conda/envs/python35-paddle120-env/lib/python3.7/site-packages (from seaborn) (1.1.5)\n",
      "Requirement already satisfied: scipy>=1.0.1 in /opt/conda/envs/python35-paddle120-env/lib/python3.7/site-packages (from seaborn) (1.3.0)\n",
      "Requirement already satisfied: numpy>=1.13.3 in /opt/conda/envs/python35-paddle120-env/lib/python3.7/site-packages (from seaborn) (1.16.4)\n",
      "Requirement already satisfied: pytz in /opt/conda/envs/python35-paddle120-env/lib/python3.7/site-packages (from matplotlib>=2.1.2->seaborn) (2019.3)\n",
      "Requirement already satisfied: kiwisolver>=1.0.1 in /opt/conda/envs/python35-paddle120-env/lib/python3.7/site-packages (from matplotlib>=2.1.2->seaborn) (1.1.0)\n",
      "Requirement already satisfied: cycler>=0.10 in /opt/conda/envs/python35-paddle120-env/lib/python3.7/site-packages (from matplotlib>=2.1.2->seaborn) (0.10.0)\n",
      "Requirement already satisfied: python-dateutil>=2.1 in /opt/conda/envs/python35-paddle120-env/lib/python3.7/site-packages (from matplotlib>=2.1.2->seaborn) (2.8.2)\n",
      "Requirement already satisfied: pyparsing!=2.0.4,!=2.1.2,!=2.1.6,>=2.0.1 in /opt/conda/envs/python35-paddle120-env/lib/python3.7/site-packages (from matplotlib>=2.1.2->seaborn) (3.0.9)\n",
      "Requirement already satisfied: six>=1.10 in /opt/conda/envs/python35-paddle120-env/lib/python3.7/site-packages (from matplotlib>=2.1.2->seaborn) (1.16.0)\n",
      "Requirement already satisfied: setuptools in /opt/conda/envs/python35-paddle120-env/lib/python3.7/site-packages (from kiwisolver>=1.0.1->matplotlib>=2.1.2->seaborn) (41.4.0)\n",
      "\n",
      "\u001b[1m[\u001b[0m\u001b[34;49mnotice\u001b[0m\u001b[1;39;49m]\u001b[0m\u001b[39;49m A new release of pip available: \u001b[0m\u001b[31;49m22.1.2\u001b[0m\u001b[39;49m -> \u001b[0m\u001b[32;49m24.0\u001b[0m\n",
      "\u001b[1m[\u001b[0m\u001b[34;49mnotice\u001b[0m\u001b[1;39;49m]\u001b[0m\u001b[39;49m To update, run: \u001b[0m\u001b[32;49mpip install --upgrade pip\u001b[0m\n"
     ]
    }
   ],
   "source": [
    "!pip install seaborn -i https://mirrors.aliyun.com/pypi/simple"
   ]
  },
  {
   "cell_type": "code",
   "execution_count": 4,
   "metadata": {
    "collapsed": false
   },
   "outputs": [],
   "source": [
    "import numpy as np\n",
    "import pandas as pd\n",
    "from IPython.display import display\n",
    "%matplotlib inline\n",
    "import seaborn as sns"
   ]
  },
  {
   "cell_type": "code",
   "execution_count": 5,
   "metadata": {
    "collapsed": false
   },
   "outputs": [
    {
     "data": {
      "text/html": [
       "<div>\n",
       "<style scoped>\n",
       "    .dataframe tbody tr th:only-of-type {\n",
       "        vertical-align: middle;\n",
       "    }\n",
       "\n",
       "    .dataframe tbody tr th {\n",
       "        vertical-align: top;\n",
       "    }\n",
       "\n",
       "    .dataframe thead th {\n",
       "        text-align: right;\n",
       "    }\n",
       "</style>\n",
       "<table border=\"1\" class=\"dataframe\">\n",
       "  <thead>\n",
       "    <tr style=\"text-align: right;\">\n",
       "      <th></th>\n",
       "      <th>PassengerId</th>\n",
       "      <th>Survived</th>\n",
       "      <th>Pclass</th>\n",
       "      <th>Name</th>\n",
       "      <th>Sex</th>\n",
       "      <th>Age</th>\n",
       "      <th>SibSp</th>\n",
       "      <th>Parch</th>\n",
       "      <th>Ticket</th>\n",
       "      <th>Fare</th>\n",
       "      <th>Cabin</th>\n",
       "      <th>Embarked</th>\n",
       "    </tr>\n",
       "  </thead>\n",
       "  <tbody>\n",
       "    <tr>\n",
       "      <th>0</th>\n",
       "      <td>1</td>\n",
       "      <td>0</td>\n",
       "      <td>3</td>\n",
       "      <td>Braund, Mr. Owen Harris</td>\n",
       "      <td>male</td>\n",
       "      <td>22.0</td>\n",
       "      <td>1</td>\n",
       "      <td>0</td>\n",
       "      <td>A/5 21171</td>\n",
       "      <td>7.25</td>\n",
       "      <td>NaN</td>\n",
       "      <td>S</td>\n",
       "    </tr>\n",
       "  </tbody>\n",
       "</table>\n",
       "</div>"
      ],
      "text/plain": [
       "   PassengerId  Survived  Pclass                     Name   Sex   Age  SibSp  \\\n",
       "0            1         0       3  Braund, Mr. Owen Harris  male  22.0      1   \n",
       "\n",
       "   Parch     Ticket  Fare Cabin Embarked  \n",
       "0      0  A/5 21171  7.25   NaN        S  "
      ]
     },
     "metadata": {},
     "output_type": "display_data"
    },
    {
     "data": {
      "text/html": [
       "<div>\n",
       "<style scoped>\n",
       "    .dataframe tbody tr th:only-of-type {\n",
       "        vertical-align: middle;\n",
       "    }\n",
       "\n",
       "    .dataframe tbody tr th {\n",
       "        vertical-align: top;\n",
       "    }\n",
       "\n",
       "    .dataframe thead th {\n",
       "        text-align: right;\n",
       "    }\n",
       "</style>\n",
       "<table border=\"1\" class=\"dataframe\">\n",
       "  <thead>\n",
       "    <tr style=\"text-align: right;\">\n",
       "      <th></th>\n",
       "      <th>PassengerId</th>\n",
       "      <th>Pclass</th>\n",
       "      <th>Name</th>\n",
       "      <th>Sex</th>\n",
       "      <th>Age</th>\n",
       "      <th>SibSp</th>\n",
       "      <th>Parch</th>\n",
       "      <th>Ticket</th>\n",
       "      <th>Fare</th>\n",
       "      <th>Cabin</th>\n",
       "      <th>Embarked</th>\n",
       "    </tr>\n",
       "  </thead>\n",
       "  <tbody>\n",
       "    <tr>\n",
       "      <th>0</th>\n",
       "      <td>892</td>\n",
       "      <td>3</td>\n",
       "      <td>Kelly, Mr. James</td>\n",
       "      <td>male</td>\n",
       "      <td>34.5</td>\n",
       "      <td>0</td>\n",
       "      <td>0</td>\n",
       "      <td>330911</td>\n",
       "      <td>7.8292</td>\n",
       "      <td>NaN</td>\n",
       "      <td>Q</td>\n",
       "    </tr>\n",
       "  </tbody>\n",
       "</table>\n",
       "</div>"
      ],
      "text/plain": [
       "   PassengerId  Pclass              Name   Sex   Age  SibSp  Parch  Ticket  \\\n",
       "0          892       3  Kelly, Mr. James  male  34.5      0      0  330911   \n",
       "\n",
       "     Fare Cabin Embarked  \n",
       "0  7.8292   NaN        Q  "
      ]
     },
     "metadata": {},
     "output_type": "display_data"
    }
   ],
   "source": [
    "#使用read_csv将train.csv和test.csv分别读到train和test两个dataframe里\n",
    "train=pd.read_csv('./data/data6374/train.csv')\n",
    "test=pd.read_csv('./data/data6374/test.csv')\n",
    "display(train.head(n=1),test.head(n=1))"
   ]
  },
  {
   "cell_type": "code",
   "execution_count": 6,
   "metadata": {
    "collapsed": false
   },
   "outputs": [
    {
     "name": "stdout",
     "output_type": "stream",
     "text": [
      "<class 'pandas.core.frame.DataFrame'>\n",
      "RangeIndex: 891 entries, 0 to 890\n",
      "Data columns (total 12 columns):\n",
      " #   Column       Non-Null Count  Dtype  \n",
      "---  ------       --------------  -----  \n",
      " 0   PassengerId  891 non-null    int64  \n",
      " 1   Survived     891 non-null    int64  \n",
      " 2   Pclass       891 non-null    int64  \n",
      " 3   Name         891 non-null    object \n",
      " 4   Sex          891 non-null    object \n",
      " 5   Age          714 non-null    float64\n",
      " 6   SibSp        891 non-null    int64  \n",
      " 7   Parch        891 non-null    int64  \n",
      " 8   Ticket       891 non-null    object \n",
      " 9   Fare         891 non-null    float64\n",
      " 10  Cabin        204 non-null    object \n",
      " 11  Embarked     889 non-null    object \n",
      "dtypes: float64(2), int64(5), object(5)\n",
      "memory usage: 83.7+ KB\n",
      "<class 'pandas.core.frame.DataFrame'>\n",
      "RangeIndex: 418 entries, 0 to 417\n",
      "Data columns (total 11 columns):\n",
      " #   Column       Non-Null Count  Dtype  \n",
      "---  ------       --------------  -----  \n",
      " 0   PassengerId  418 non-null    int64  \n",
      " 1   Pclass       418 non-null    int64  \n",
      " 2   Name         418 non-null    object \n",
      " 3   Sex          418 non-null    object \n",
      " 4   Age          332 non-null    float64\n",
      " 5   SibSp        418 non-null    int64  \n",
      " 6   Parch        418 non-null    int64  \n",
      " 7   Ticket       418 non-null    object \n",
      " 8   Fare         417 non-null    float64\n",
      " 9   Cabin        91 non-null     object \n",
      " 10  Embarked     418 non-null    object \n",
      "dtypes: float64(2), int64(4), object(5)\n",
      "memory usage: 36.0+ KB\n"
     ]
    },
    {
     "data": {
      "text/html": [
       "<div>\n",
       "<style scoped>\n",
       "    .dataframe tbody tr th:only-of-type {\n",
       "        vertical-align: middle;\n",
       "    }\n",
       "\n",
       "    .dataframe tbody tr th {\n",
       "        vertical-align: top;\n",
       "    }\n",
       "\n",
       "    .dataframe thead th {\n",
       "        text-align: right;\n",
       "    }\n",
       "</style>\n",
       "<table border=\"1\" class=\"dataframe\">\n",
       "  <thead>\n",
       "    <tr style=\"text-align: right;\">\n",
       "      <th></th>\n",
       "      <th>PassengerId</th>\n",
       "      <th>Survived</th>\n",
       "      <th>Pclass</th>\n",
       "      <th>Age</th>\n",
       "      <th>SibSp</th>\n",
       "      <th>Parch</th>\n",
       "      <th>Fare</th>\n",
       "    </tr>\n",
       "  </thead>\n",
       "  <tbody>\n",
       "    <tr>\n",
       "      <th>count</th>\n",
       "      <td>891.000000</td>\n",
       "      <td>891.000000</td>\n",
       "      <td>891.000000</td>\n",
       "      <td>714.000000</td>\n",
       "      <td>891.000000</td>\n",
       "      <td>891.000000</td>\n",
       "      <td>891.000000</td>\n",
       "    </tr>\n",
       "    <tr>\n",
       "      <th>mean</th>\n",
       "      <td>446.000000</td>\n",
       "      <td>0.383838</td>\n",
       "      <td>2.308642</td>\n",
       "      <td>29.699118</td>\n",
       "      <td>0.523008</td>\n",
       "      <td>0.381594</td>\n",
       "      <td>32.204208</td>\n",
       "    </tr>\n",
       "    <tr>\n",
       "      <th>std</th>\n",
       "      <td>257.353842</td>\n",
       "      <td>0.486592</td>\n",
       "      <td>0.836071</td>\n",
       "      <td>14.526497</td>\n",
       "      <td>1.102743</td>\n",
       "      <td>0.806057</td>\n",
       "      <td>49.693429</td>\n",
       "    </tr>\n",
       "    <tr>\n",
       "      <th>min</th>\n",
       "      <td>1.000000</td>\n",
       "      <td>0.000000</td>\n",
       "      <td>1.000000</td>\n",
       "      <td>0.420000</td>\n",
       "      <td>0.000000</td>\n",
       "      <td>0.000000</td>\n",
       "      <td>0.000000</td>\n",
       "    </tr>\n",
       "    <tr>\n",
       "      <th>25%</th>\n",
       "      <td>223.500000</td>\n",
       "      <td>0.000000</td>\n",
       "      <td>2.000000</td>\n",
       "      <td>20.125000</td>\n",
       "      <td>0.000000</td>\n",
       "      <td>0.000000</td>\n",
       "      <td>7.910400</td>\n",
       "    </tr>\n",
       "    <tr>\n",
       "      <th>50%</th>\n",
       "      <td>446.000000</td>\n",
       "      <td>0.000000</td>\n",
       "      <td>3.000000</td>\n",
       "      <td>28.000000</td>\n",
       "      <td>0.000000</td>\n",
       "      <td>0.000000</td>\n",
       "      <td>14.454200</td>\n",
       "    </tr>\n",
       "    <tr>\n",
       "      <th>75%</th>\n",
       "      <td>668.500000</td>\n",
       "      <td>1.000000</td>\n",
       "      <td>3.000000</td>\n",
       "      <td>38.000000</td>\n",
       "      <td>1.000000</td>\n",
       "      <td>0.000000</td>\n",
       "      <td>31.000000</td>\n",
       "    </tr>\n",
       "    <tr>\n",
       "      <th>max</th>\n",
       "      <td>891.000000</td>\n",
       "      <td>1.000000</td>\n",
       "      <td>3.000000</td>\n",
       "      <td>80.000000</td>\n",
       "      <td>8.000000</td>\n",
       "      <td>6.000000</td>\n",
       "      <td>512.329200</td>\n",
       "    </tr>\n",
       "  </tbody>\n",
       "</table>\n",
       "</div>"
      ],
      "text/plain": [
       "       PassengerId    Survived      Pclass         Age       SibSp  \\\n",
       "count   891.000000  891.000000  891.000000  714.000000  891.000000   \n",
       "mean    446.000000    0.383838    2.308642   29.699118    0.523008   \n",
       "std     257.353842    0.486592    0.836071   14.526497    1.102743   \n",
       "min       1.000000    0.000000    1.000000    0.420000    0.000000   \n",
       "25%     223.500000    0.000000    2.000000   20.125000    0.000000   \n",
       "50%     446.000000    0.000000    3.000000   28.000000    0.000000   \n",
       "75%     668.500000    1.000000    3.000000   38.000000    1.000000   \n",
       "max     891.000000    1.000000    3.000000   80.000000    8.000000   \n",
       "\n",
       "            Parch        Fare  \n",
       "count  891.000000  891.000000  \n",
       "mean     0.381594   32.204208  \n",
       "std      0.806057   49.693429  \n",
       "min      0.000000    0.000000  \n",
       "25%      0.000000    7.910400  \n",
       "50%      0.000000   14.454200  \n",
       "75%      0.000000   31.000000  \n",
       "max      6.000000  512.329200  "
      ]
     },
     "execution_count": 6,
     "metadata": {},
     "output_type": "execute_result"
    }
   ],
   "source": [
    "train.info()\n",
    "test.info()\n",
    "train.describe()"
   ]
  },
  {
   "cell_type": "code",
   "execution_count": 7,
   "metadata": {
    "collapsed": false
   },
   "outputs": [
    {
     "data": {
      "text/plain": [
       "<matplotlib.axes._subplots.AxesSubplot at 0x7f163c0c7110>"
      ]
     },
     "execution_count": 7,
     "metadata": {},
     "output_type": "execute_result"
    },
    {
     "data": {
      "image/png": "[encoded data removed]",
      "text/plain": [
       "<Figure size 640x480 with 1 Axes>"
      ]
     },
     "metadata": {},
     "output_type": "display_data"
    }
   ],
   "source": [
    "sns.countplot(x=\"Pclass\", hue=\"Survived\", data=train)  #使用countplot画出train中不同Pclass下生存和死亡人数的柱状图"
   ]
  },
  {
   "cell_type": "markdown",
   "metadata": {
    "collapsed": false
   },
   "source": [
    "## 请写出上一句代码所得的柱状图你自己的分析结论\n",
    "社会阶层层级越高（1级最高），死亡率越低，存活率越高（层级二存活人数虽少，但是存活比例比层级三高）\n"
   ]
  },
  {
   "cell_type": "code",
   "execution_count": 8,
   "metadata": {
    "collapsed": false
   },
   "outputs": [
    {
     "data": {
      "text/plain": [
       "<matplotlib.axes._subplots.AxesSubplot at 0x7f163211b550>"
      ]
     },
     "execution_count": 8,
     "metadata": {},
     "output_type": "execute_result"
    },
    {
     "data": {
      "image/png": "[encoded data removed]",
      "text/plain": [
       "<Figure size 640x480 with 1 Axes>"
      ]
     },
     "metadata": {},
     "output_type": "display_data"
    }
   ],
   "source": [
    "sns.countplot(x=\"Sex\", hue=\"Survived\", data=train)    #使用countplot画出train中不同性别下生存和死亡人数的柱状图"
   ]
  },
  {
   "cell_type": "markdown",
   "metadata": {
    "collapsed": false
   },
   "source": [
    "## 请写出上一句代码所得的柱状图你自己的分析结论\n",
    "男性死亡人数高于女性，存活率低于女性"
   ]
  },
  {
   "cell_type": "markdown",
   "metadata": {
    "collapsed": false
   },
   "source": [
    "请点击[此处](https://ai.baidu.com/docs#/AIStudio_Project_Notebook/a38e5576)查看本环境基本用法.  <br>\n",
    "Please click [here ](https://ai.baidu.com/docs#/AIStudio_Project_Notebook/a38e5576) for more detailed instructions. "
   ]
  },
  {
   "cell_type": "code",
   "execution_count": 9,
   "metadata": {
    "collapsed": false
   },
   "outputs": [
    {
     "data": {
      "text/plain": [
       "<matplotlib.axes._subplots.AxesSubplot at 0x7f163207c650>"
      ]
     },
     "execution_count": 9,
     "metadata": {},
     "output_type": "execute_result"
    },
    {
     "data": {
      "image/png": "[encoded data removed]",
      "text/plain": [
       "<Figure size 640x480 with 1 Axes>"
      ]
     },
     "metadata": {},
     "output_type": "display_data"
    }
   ],
   "source": [
    "#以下代码不能在一次运行中反复执行，因为x已经被改过了\n",
    "train['Age']=train['Age'].map(lambda x: 'yes' if 0<x<100 else 'no')   #有年龄信息和没有年龄信息是否和死亡与否有关\n",
    "sns.countplot(x=\"Age\",hue=\"Survived\",data=train)"
   ]
  },
  {
   "cell_type": "code",
   "execution_count": 10,
   "metadata": {
    "collapsed": false
   },
   "outputs": [
    {
     "data": {
      "text/plain": [
       "<matplotlib.axes._subplots.AxesSubplot at 0x7f16348ece10>"
      ]
     },
     "execution_count": 10,
     "metadata": {},
     "output_type": "execute_result"
    },
    {
     "data": {
      "image/png": "[encoded data removed]",
      "text/plain": [
       "<Figure size 640x480 with 1 Axes>"
      ]
     },
     "metadata": {},
     "output_type": "display_data"
    }
   ],
   "source": [
    "train = pd.read_csv('/home/aistudio/data/data6374/train.csv')\n",
    "sns.violinplot(x=\"Survived\", y=\"Age\", data=train)       #画出小提琴图（violinplot）以分析生存和死亡的人的年龄分布"
   ]
  },
  {
   "cell_type": "code",
   "execution_count": 11,
   "metadata": {
    "collapsed": false
   },
   "outputs": [],
   "source": [
    "#给以下代码加注释\n",
    "# 进行年龄特征分段转换\n",
    "train['Age'] =train['Age'].map(lambda x: 'child' if x < 12 else 'youth' if x < 30 else 'adult' if x < 60 else 'old' if x < 75 else 'tooold' if x > 75 else 'null') \n",
    "#使用lambda表达式将age的数值变为child（<12）,youth(<30),adult(<60),old(<75),tooold(>=75),null(其他)）\n"
   ]
  },
  {
   "cell_type": "code",
   "execution_count": 12,
   "metadata": {
    "collapsed": false
   },
   "outputs": [
    {
     "data": {
      "text/plain": [
       "<matplotlib.axes._subplots.AxesSubplot at 0x7f162f951f50>"
      ]
     },
     "execution_count": 12,
     "metadata": {},
     "output_type": "execute_result"
    },
    {
     "data": {
      "image/png": "[encoded data removed]",
      "text/plain": [
       "<Figure size 640x480 with 1 Axes>"
      ]
     },
     "metadata": {},
     "output_type": "display_data"
    }
   ],
   "source": [
    "sns.countplot(x=\"SibSp\", hue=\"Survived\", data=train)    #使用countplot画出堂兄妹个数与是否生存的关系柱状图，横坐标为堂兄妹个数，纵坐标为生存和死亡的人数"
   ]
  },
  {
   "cell_type": "code",
   "execution_count": 13,
   "metadata": {
    "collapsed": false
   },
   "outputs": [],
   "source": [
    "# 从图中可以看到大部分人这一属性都为0，而为1，2的情况下貌似幸存大概率会增加，再大又会减小，把这个特征分为三部分\r\n",
    "train['SibSp']=train['SibSp'].map(lambda x: 'small' if x<1 else 'middle' if x<3 else 'large')        "
   ]
  },
  {
   "cell_type": "code",
   "execution_count": 14,
   "metadata": {
    "collapsed": false
   },
   "outputs": [
    {
     "data": {
      "text/plain": [
       "<matplotlib.axes._subplots.AxesSubplot at 0x7f162f87c090>"
      ]
     },
     "execution_count": 14,
     "metadata": {},
     "output_type": "execute_result"
    },
    {
     "data": {
      "image/png": "[encoded data removed]",
      "text/plain": [
       "<Figure size 640x480 with 1 Axes>"
      ]
     },
     "metadata": {},
     "output_type": "display_data"
    }
   ],
   "source": [
    "sns.countplot(x=\"Parch\", hue=\"Survived\", data=train)  #使用countplot画出‘Parch’父母以及小孩个数与是否生存的关系柱状图，横坐标为父母以及小孩个数，纵坐标为生存和死亡的人数"
   ]
  },
  {
   "cell_type": "code",
   "execution_count": 15,
   "metadata": {
    "collapsed": false
   },
   "outputs": [],
   "source": [
    "# 有父母孩子的比单独旅行的幸存率的确更高，同样把这个特征分为三部分\r\n",
    "train['Parch']=train['Parch'].map(lambda x: 'small' if x<1 else 'middle' if x<4 else 'large')"
   ]
  },
  {
   "cell_type": "code",
   "execution_count": 16,
   "metadata": {
    "collapsed": false
   },
   "outputs": [
    {
     "data": {
      "text/plain": [
       "<matplotlib.axes._subplots.AxesSubplot at 0x7f162d0a6d10>"
      ]
     },
     "execution_count": 16,
     "metadata": {},
     "output_type": "execute_result"
    },
    {
     "data": {
      "image/png": "[encoded data removed]",
      "text/plain": [
       "<Figure size 640x480 with 1 Axes>"
      ]
     },
     "metadata": {},
     "output_type": "display_data"
    }
   ],
   "source": [
    "sns.violinplot(x='Survived',y='Fare',data=train)   #画出风琴图（violinplot）以分析船费Fare和生存的关系"
   ]
  },
  {
   "cell_type": "markdown",
   "metadata": {
    "collapsed": false
   },
   "source": [
    "## 请写出上一句代码所得的风琴图你自己的分析结论\n",
    "船费在100以下时，幸存率很低，死亡人数比存活的多，船费在100-300之间，幸存率逐渐提高，300以上，全部存活，存活率100%"
   ]
  },
  {
   "cell_type": "code",
   "execution_count": 17,
   "metadata": {
    "collapsed": false
   },
   "outputs": [
    {
     "data": {
      "text/plain": [
       "<matplotlib.axes._subplots.AxesSubplot at 0x7f162d09a850>"
      ]
     },
     "execution_count": 17,
     "metadata": {},
     "output_type": "execute_result"
    },
    {
     "data": {
      "image/png": "[encoded data removed]",
      "text/plain": [
       "<Figure size 640x480 with 1 Axes>"
      ]
     },
     "metadata": {},
     "output_type": "display_data"
    }
   ],
   "source": [
    "#train = pd.read_csv('/home/aistudio/data/data6374/train.csv')\n",
    "train['Fare']=train['Fare'].map(lambda x:np.log(x+1)) #由于部分x为0，因此要+1   请写出这个地方为什么用log，不用log是什么样的\n",
    "# 使用对数变换（如`np.log(x + 1)`）的主要原因是：\n",
    "# 1.减少偏态：船费（`Fare`）的分布通常是右偏的，也就是说大部分数据集中在较低的值上，而少数值很高。对数变换可以将这种偏态减少，使数据分布更加接近正态分布，从而提高模型的性能。\n",
    "# 2.处理极端值：如果不使用对数变换，极端高船费可能会对模型造成过大的影响。对数变换可以减少这些极端值的影响，因为对数增长的速度比线性增长慢。\n",
    "# 3. 使得特征更具可解释性：对数变换后，特征的变化解释上更加直观。例如，`log(Fare)`的变化可以被理解为比例变化，而不是绝对变化。\n",
    "\n",
    "# 如果不使用对数变换，`Fare`的分布可能会对模型训练产生负面影响，导致模型拟合不佳，预测结果不准确。尤其是在回归模型中，假设特征呈正态分布时，非正态分布的特征可能导致模型性能下降。\n",
    "# 可视化时，原始的`Fare`分布可能会显示出更明显的偏态，而对数变换后分布会更加平滑。\n",
    "sns.violinplot(x='Survived',y='Fare',data=train)"
   ]
  },
  {
   "cell_type": "code",
   "execution_count": 18,
   "metadata": {
    "collapsed": false
   },
   "outputs": [],
   "source": [
    "train['Fare']=train['Fare'].map(lambda x:'poor' if(x<2.5) else 'rich')  #使用lambda表达式将Fare的数值变为poor（<2.5）,rich(其他)）"
   ]
  },
  {
   "cell_type": "code",
   "execution_count": 19,
   "metadata": {
    "collapsed": false
   },
   "outputs": [
    {
     "data": {
      "text/plain": [
       "<matplotlib.axes._subplots.AxesSubplot at 0x7f162f989f50>"
      ]
     },
     "execution_count": 19,
     "metadata": {},
     "output_type": "execute_result"
    },
    {
     "data": {
      "image/png": "[encoded data removed]",
      "text/plain": [
       "<Figure size 640x480 with 1 Axes>"
      ]
     },
     "metadata": {},
     "output_type": "display_data"
    }
   ],
   "source": [
    "\n",
    "train['Cabin']=train['Cabin'].map(lambda x:'yes' if type(x)==str else 'no')  #使用lambda表达式将Cabin改为'yes'(type为str)，‘no’（type为其他））\n",
    "sns.countplot(x=\"Cabin\", hue =\"Survived\", data =train)"
   ]
  },
  {
   "cell_type": "code",
   "execution_count": 20,
   "metadata": {
    "collapsed": false
   },
   "outputs": [
    {
     "data": {
      "text/plain": [
       "<matplotlib.axes._subplots.AxesSubplot at 0x7f162016e6d0>"
      ]
     },
     "execution_count": 20,
     "metadata": {},
     "output_type": "execute_result"
    },
    {
     "data": {
      "image/png": "[encoded data removed]",
      "text/plain": [
       "<Figure size 640x480 with 1 Axes>"
      ]
     },
     "metadata": {},
     "output_type": "display_data"
    }
   ],
   "source": [
    "sns.countplot(x=\"Embarked\",hue=\"Survived\",data=train) # 观察'Embarked'乘客上船的港口和生存率的关系"
   ]
  },
  {
   "cell_type": "code",
   "execution_count": 21,
   "metadata": {
    "collapsed": false
   },
   "outputs": [
    {
     "name": "stdout",
     "output_type": "stream",
     "text": [
      "<class 'pandas.core.frame.DataFrame'>\n",
      "Int64Index: 889 entries, 0 to 890\n",
      "Data columns (total 12 columns):\n",
      " #   Column       Non-Null Count  Dtype \n",
      "---  ------       --------------  ----- \n",
      " 0   PassengerId  889 non-null    int64 \n",
      " 1   Survived     889 non-null    int64 \n",
      " 2   Pclass       889 non-null    int64 \n",
      " 3   Name         889 non-null    object\n",
      " 4   Sex          889 non-null    object\n",
      " 5   Age          889 non-null    object\n",
      " 6   SibSp        889 non-null    object\n",
      " 7   Parch        889 non-null    object\n",
      " 8   Ticket       889 non-null    object\n",
      " 9   Fare         889 non-null    object\n",
      " 10  Cabin        889 non-null    object\n",
      " 11  Embarked     889 non-null    object\n",
      "dtypes: int64(3), object(9)\n",
      "memory usage: 90.3+ KB\n"
     ]
    }
   ],
   "source": [
    "train.dropna(axis=0,inplace=True) # 删除 Embarked特征中所有包含缺失值的行，修改原始数据框\n",
    "train.info()"
   ]
  },
  {
   "cell_type": "code",
   "execution_count": 22,
   "metadata": {
    "collapsed": false
   },
   "outputs": [],
   "source": [
    "labels=train['Survived']\n",
    "features = train.drop(['Survived','PassengerId','Name','Ticket'],axis=1)         # 从 train 数据框中删除 'Survived', 'PassengerId', 'Name', 'Ticket' 列，保留其他列作为特征\n",
    "# 原因：\n",
    "# 提取标签：Survived 列是模型的目标变量，用于训练和评估模型。\n",
    "# 删除无关特征：PassengerId, Name, 和 Ticket 列不是预测模型所需的特征，因为它们不包含有用的信息或对生存率预测没有实际意义。"
   ]
  },
  {
   "cell_type": "code",
   "execution_count": 23,
   "metadata": {
    "collapsed": false
   },
   "outputs": [
    {
     "name": "stdout",
     "output_type": "stream",
     "text": [
      "<class 'pandas.core.frame.DataFrame'>\n",
      "Int64Index: 889 entries, 0 to 890\n",
      "Data columns (total 8 columns):\n",
      " #   Column    Non-Null Count  Dtype \n",
      "---  ------    --------------  ----- \n",
      " 0   Pclass    889 non-null    int64 \n",
      " 1   Sex       889 non-null    object\n",
      " 2   Age       889 non-null    object\n",
      " 3   SibSp     889 non-null    object\n",
      " 4   Parch     889 non-null    object\n",
      " 5   Fare      889 non-null    object\n",
      " 6   Cabin     889 non-null    object\n",
      " 7   Embarked  889 non-null    object\n",
      "dtypes: int64(1), object(7)\n",
      "memory usage: 62.5+ KB\n"
     ]
    }
   ],
   "source": [
    "features.info()"
   ]
  },
  {
   "cell_type": "code",
   "execution_count": 24,
   "metadata": {
    "collapsed": false
   },
   "outputs": [
    {
     "name": "stdout",
     "output_type": "stream",
     "text": [
      "22 total features after one-hot encoding.\n"
     ]
    }
   ],
   "source": [
    "features = pd.get_dummies(features)   # 对 features 数据框中的分类变量进行独热编码，将其转换为数值型特征\r\n",
    "# 为什么这么做：\r\n",
    "# 处理分类变量：机器学习模型通常只能处理数值型数据，而分类变量（如性别、船舱等级等）需要转换成数值形式。独热编码通过为每个类别创建一个新的二进制特征来实现这一点。\r\n",
    "# 避免信息损失：与其他编码方法（如标签编码）相比，独热编码避免了对类别顺序的错误假设（即不假定类别之间有任何顺序关系），从而保留了所有类别的信息。\r\n",
    "\r\n",
    "encoded = list(features.columns)\r\n",
    "print(\"{} total features after one-hot encoding.\".format(len(encoded)))"
   ]
  },
  {
   "cell_type": "code",
   "execution_count": 25,
   "metadata": {
    "collapsed": false
   },
   "outputs": [
    {
     "name": "stdout",
     "output_type": "stream",
     "text": [
      "<class 'pandas.core.frame.DataFrame'>\n",
      "Int64Index: 889 entries, 0 to 890\n",
      "Data columns (total 22 columns):\n",
      " #   Column        Non-Null Count  Dtype\n",
      "---  ------        --------------  -----\n",
      " 0   Pclass        889 non-null    int64\n",
      " 1   Sex_female    889 non-null    uint8\n",
      " 2   Sex_male      889 non-null    uint8\n",
      " 3   Age_adult     889 non-null    uint8\n",
      " 4   Age_child     889 non-null    uint8\n",
      " 5   Age_null      889 non-null    uint8\n",
      " 6   Age_old       889 non-null    uint8\n",
      " 7   Age_tooold    889 non-null    uint8\n",
      " 8   Age_youth     889 non-null    uint8\n",
      " 9   SibSp_large   889 non-null    uint8\n",
      " 10  SibSp_middle  889 non-null    uint8\n",
      " 11  SibSp_small   889 non-null    uint8\n",
      " 12  Parch_large   889 non-null    uint8\n",
      " 13  Parch_middle  889 non-null    uint8\n",
      " 14  Parch_small   889 non-null    uint8\n",
      " 15  Fare_poor     889 non-null    uint8\n",
      " 16  Fare_rich     889 non-null    uint8\n",
      " 17  Cabin_no      889 non-null    uint8\n",
      " 18  Cabin_yes     889 non-null    uint8\n",
      " 19  Embarked_C    889 non-null    uint8\n",
      " 20  Embarked_Q    889 non-null    uint8\n",
      " 21  Embarked_S    889 non-null    uint8\n",
      "dtypes: int64(1), uint8(21)\n",
      "memory usage: 32.1 KB\n"
     ]
    }
   ],
   "source": [
    "features.info()"
   ]
  },
  {
   "cell_type": "code",
   "execution_count": 26,
   "metadata": {
    "collapsed": false
   },
   "outputs": [
    {
     "name": "stdout",
     "output_type": "stream",
     "text": [
      "22 total features after one-hot encoding.\n",
      "<class 'pandas.core.frame.DataFrame'>\n",
      "RangeIndex: 418 entries, 0 to 417\n",
      "Data columns (total 22 columns):\n",
      " #   Column        Non-Null Count  Dtype\n",
      "---  ------        --------------  -----\n",
      " 0   Pclass        418 non-null    int64\n",
      " 1   Sex_female    418 non-null    uint8\n",
      " 2   Sex_male      418 non-null    uint8\n",
      " 3   Age_adult     418 non-null    uint8\n",
      " 4   Age_child     418 non-null    uint8\n",
      " 5   Age_null      418 non-null    uint8\n",
      " 6   Age_old       418 non-null    uint8\n",
      " 7   Age_tooold    418 non-null    uint8\n",
      " 8   Age_youth     418 non-null    uint8\n",
      " 9   SibSp_large   418 non-null    uint8\n",
      " 10  SibSp_middle  418 non-null    uint8\n",
      " 11  SibSp_small   418 non-null    uint8\n",
      " 12  Parch_large   418 non-null    uint8\n",
      " 13  Parch_middle  418 non-null    uint8\n",
      " 14  Parch_small   418 non-null    uint8\n",
      " 15  Fare_poor     418 non-null    uint8\n",
      " 16  Fare_rich     418 non-null    uint8\n",
      " 17  Cabin_no      418 non-null    uint8\n",
      " 18  Cabin_yes     418 non-null    uint8\n",
      " 19  Embarked_C    418 non-null    uint8\n",
      " 20  Embarked_Q    418 non-null    uint8\n",
      " 21  Embarked_S    418 non-null    uint8\n",
      "dtypes: int64(1), uint8(21)\n",
      "memory usage: 12.0 KB\n"
     ]
    }
   ],
   "source": [
    "\n",
    "#对test中的'Age','SibSp'，'Parch'特征进行分段分类\n",
    "test['Age'] =test['Age'].map(lambda x: 'child' if x < 12 else 'youth' if x < 30 else 'adult' if x < 60 else 'old' if x < 75 else 'tooold' if x > 75 else 'null') \n",
    "test['SibSp']=test['SibSp'].map(lambda x: 'small' if x<1 else 'middle' if x<3 else 'large')  \n",
    "test['Parch']=test['Parch'].map(lambda x: 'small' if x<1 else 'middle' if x<4 else 'large')\n",
    "#均值补齐'Fare'特征值并作对数转换和分类，下面缺了两句\n",
    "test.Fare.fillna(test['Fare'].mean(), inplace=True)\n",
    "test['Fare']=test['Fare'].map(lambda x:np.log(x+1))\n",
    "test['Fare']=test['Fare'].map(lambda x:'poor' if(x<2.5) else 'rich')\n",
    "#按'Cabin'是否缺损对test中的Cabin处理\n",
    "test['Cabin']=test['Cabin'].map(lambda x:'yes' if type(x)==str else 'no')\n",
    "\n",
    "#删除不需要的特征并进行独热编码\n",
    "Id=test['PassengerId']\n",
    "test = test.drop(['PassengerId','Name','Ticket'],axis=1)\n",
    "test = pd.get_dummies(test)\n",
    "encoded = list(test.columns)\n",
    "print (\"{} total features after one-hot encoding.\".format(len(encoded)))\n",
    "test.info()"
   ]
  },
  {
   "cell_type": "code",
   "execution_count": 27,
   "metadata": {
    "collapsed": false
   },
   "outputs": [
    {
     "name": "stdout",
     "output_type": "stream",
     "text": [
      "Looking in indexes: https://mirrors.aliyun.com/pypi/simple\n",
      "Requirement already satisfied: xgboost in /opt/conda/envs/python35-paddle120-env/lib/python3.7/site-packages (1.3.3)\n",
      "Requirement already satisfied: scipy in /opt/conda/envs/python35-paddle120-env/lib/python3.7/site-packages (from xgboost) (1.3.0)\n",
      "Requirement already satisfied: numpy in /opt/conda/envs/python35-paddle120-env/lib/python3.7/site-packages (from xgboost) (1.16.4)\n",
      "\n",
      "\u001b[1m[\u001b[0m\u001b[34;49mnotice\u001b[0m\u001b[1;39;49m]\u001b[0m\u001b[39;49m A new release of pip available: \u001b[0m\u001b[31;49m22.1.2\u001b[0m\u001b[39;49m -> \u001b[0m\u001b[32;49m24.0\u001b[0m\n",
      "\u001b[1m[\u001b[0m\u001b[34;49mnotice\u001b[0m\u001b[1;39;49m]\u001b[0m\u001b[39;49m To update, run: \u001b[0m\u001b[32;49mpip install --upgrade pip\u001b[0m\n"
     ]
    }
   ],
   "source": [
    "!pip install xgboost -i https://mirrors.aliyun.com/pypi/simple"
   ]
  },
  {
   "cell_type": "code",
   "execution_count": 28,
   "metadata": {
    "collapsed": false
   },
   "outputs": [],
   "source": [
    "from sklearn.model_selection import GridSearchCV\n",
    "from sklearn.metrics import make_scorer\n",
    "from sklearn.metrics import accuracy_score,roc_auc_score\n",
    "from time import time\n",
    "from sklearn.tree import DecisionTreeClassifier\n",
    "from sklearn.svm import SVC\n",
    "from sklearn.ensemble import RandomForestClassifier\n",
    "from sklearn.ensemble import AdaBoostClassifier\n",
    "from sklearn.neighbors import KNeighborsClassifier\n",
    "from xgboost.sklearn import XGBClassifier"
   ]
  },
  {
   "cell_type": "code",
   "execution_count": 29,
   "metadata": {
    "collapsed": false
   },
   "outputs": [],
   "source": [
    "def fit_model(alg,parameters):\n",
    "    X=features\n",
    "    y=labels # 由于数据较少，使用全部数据进行网格搜索\n",
    "    scorer = make_scorer(roc_auc_score) # 使用 roc_auc_score 作为评分标准\n",
    "    grid=GridSearchCV(alg,parameters,scoring=scorer,cv=5)   #自学GridSearchCV及其他自动调参方法，了解他们的优缺点并在此简单列出\n",
    "    # GridSearchCV\n",
    "    # 优点： 简单易用，适用于小型数据集和模型;可以全面搜索参数空间，确保找到最优组合。\n",
    "    # 缺点：计算成本高，对于大数据集或参数空间较大时，训练时间较长;可能会忽略一些最佳参数组合，特别是在\n",
    "    # RandomizedSearchCV\n",
    "    # 优点：随机抽样参数组合，效率高，适用于大参数空间；能发现较好的参数组合。\n",
    "    # 缺点：可能会错过全局最优解，结果不如网格搜索全面。\n",
    "    # Bayesian Optimization\n",
    "    # 优点：通过概率模型逐步优化参数，效率高，能智能选择下一个测试点。\n",
    "    # 缺点：实现较复杂，需要较多的计算资源和时间。\n",
    "    # Hyperband\n",
    "    # 优点：结合了随机搜索和早期停止，能快速找到优秀的超参数组合。\n",
    "    # 缺点：实现较复杂，对某些问题的性能可能不稳定。\n",
    "    # Genetic Algorithms\n",
    "    # 优点：模拟自然选择过程，能探索复杂的搜索空间。\n",
    "    # 缺点：需要设置多个超参数，计算成本高，收敛速度可能慢。\n",
    "    start=time() # 计时\n",
    "    grid=grid.fit(X,y)# 模型训练\n",
    "    end=time()\n",
    "    t=round(end-start,3)\n",
    "    print(grid.best_params_) # 输出最佳参数\n",
    "    print ('searching time for {} is {} s'.format(alg.__class__.__name__,t)) #输出搜索时间\n",
    "    return grid"
   ]
  },
  {
   "cell_type": "code",
   "execution_count": 30,
   "metadata": {
    "collapsed": false
   },
   "outputs": [],
   "source": [
    "#列出需要使用的算法\n",
    "alg1=DecisionTreeClassifier(random_state=29)\n",
    "alg2=SVC(probability=True,random_state=29)  #由于使用roc_auc_score作为评分标准，需将SVC中的probability参数设置为True\n",
    "alg3=RandomForestClassifier(random_state=29)\n",
    "alg4=AdaBoostClassifier(random_state=29)\n",
    "alg5=KNeighborsClassifier(n_jobs=-1)\n",
    "alg6=XGBClassifier(random_state=29,n_jobs=-1)\n"
   ]
  },
  {
   "cell_type": "code",
   "execution_count": 31,
   "metadata": {
    "collapsed": false
   },
   "outputs": [],
   "source": [
    "#列出需要调整的参数范围\n",
    "parameters1={'max_depth':range(1,10),'min_samples_split':range(2,10)}\n",
    "parameters2 = {\"C\":range(1,20), \"gamma\": [0.05,0.1,0.15,0.2,0.25]}\n",
    "parameters3_1 = {'n_estimators':range(10,200,10)}\n",
    "parameters3_2 = {'max_depth':range(1,10),'min_samples_split':range(2,10)}  #搜索空间太大，分两次调整参数\n",
    "parameters4 = {'n_estimators':range(10,200,10),'learning_rate':[i/10.0 for i in range(5,15)]}\n",
    "parameters5 = {'n_neighbors':range(2,10),'leaf_size':range(10,80,20)  }\n",
    "parameters6_1 = {'n_estimators':range(10,200,10)}\n",
    "parameters6_2 = {'max_depth':range(1,10),'min_child_weight':range(1,10)}\n",
    "parameters6_3 = {'subsample':[i/10.0 for i in range(1,10)], 'colsample_bytree':[i/10.0 for i in range(1,10)]}#搜索空间太大，分三次调整参数\n"
   ]
  },
  {
   "cell_type": "markdown",
   "metadata": {
    "collapsed": false
   },
   "source": [
    "请把模型调用部分的代码改成循环形式"
   ]
  },
  {
   "cell_type": "code",
   "execution_count": 32,
   "metadata": {
    "collapsed": false
   },
   "outputs": [
    {
     "name": "stdout",
     "output_type": "stream",
     "text": [
      "{'max_depth': 4, 'min_samples_split': 2}\n",
      "searching time for DecisionTreeClassifier is 1.323 s\n"
     ]
    }
   ],
   "source": [
    "clf1=fit_model(alg1,parameters1)"
   ]
  },
  {
   "cell_type": "code",
   "execution_count": 33,
   "metadata": {
    "collapsed": false
   },
   "outputs": [],
   "source": [
    "clf2=fit_model(alg2,parameters2)"
   ]
  },
  {
   "cell_type": "code",
   "execution_count": 34,
   "metadata": {
    "collapsed": false
   },
   "outputs": [],
   "source": [
    "clf3_m1=fit_model(alg3,parameters3_1)"
   ]
  },
  {
   "cell_type": "code",
   "execution_count": 35,
   "metadata": {
    "collapsed": false
   },
   "outputs": [],
   "source": [
    "alg3=RandomForestClassifier(random_state=29,n_estimators=180)\r\n",
    "clf3=fit_model(alg3,parameters3_2)"
   ]
  },
  {
   "cell_type": "code",
   "execution_count": 36,
   "metadata": {
    "collapsed": false
   },
   "outputs": [],
   "source": [
    "clf4=fit_model(alg4,parameters4)"
   ]
  },
  {
   "cell_type": "code",
   "execution_count": 37,
   "metadata": {
    "collapsed": false
   },
   "outputs": [],
   "source": [
    "clf5=fit_model(alg5,parameters5)"
   ]
  },
  {
   "cell_type": "code",
   "execution_count": 1,
   "metadata": {
    "collapsed": false
   },
   "outputs": [],
   "source": [
    "clf6_m1=fit_model(alg6,parameters6_1)"
   ]
  },
  {
   "cell_type": "code",
   "execution_count": null,
   "metadata": {
    "collapsed": false
   },
   "outputs": [],
   "source": [
    "alg6=XGBClassifier(n_estimators=140,random_state=29,n_jobs=-1)\r\n",
    "clf6_m2=fit_model(alg6,parameters6_2)"
   ]
  },
  {
   "cell_type": "code",
   "execution_count": null,
   "metadata": {
    "collapsed": false
   },
   "outputs": [],
   "source": [
    "alg6=XGBClassifier(n_estimators=140,max_depth=4,min_child_weight=5,random_state=29,n_jobs=-1)\r\n",
    "clf6=fit_model(alg6,parameters6_3)"
   ]
  },
  {
   "cell_type": "code",
   "execution_count": null,
   "metadata": {
    "collapsed": false
   },
   "outputs": [],
   "source": [
    "def save(clf,i):\n",
    "    pred=clf.predict(test)\n",
    "    sub=pd.DataFrame({ 'PassengerId': Id, 'Survived': pred })\n",
    "    sub.to_csv(\"res_tan_{}.csv\".format(i), index=False)\n"
   ]
  },
  {
   "cell_type": "code",
   "execution_count": null,
   "metadata": {
    "collapsed": false
   },
   "outputs": [],
   "source": [
    "\r\n",
    "i=1\r\n",
    "for clf in [clf1,clf2,clf3,clf4,clf5,clf6]:\r\n",
    "    save(clf,i)\r\n",
    "    i=i+1"
   ]
  }
 ],
 "metadata": {
  "kernelspec": {
   "display_name": "Python 3",
   "language": "python",
   "name": "py35-paddle1.2.0"
  },
  "language_info": {
   "codemirror_mode": {
    "name": "ipython",
    "version": 3
   },
   "file_extension": ".py",
   "mimetype": "text/x-python",
   "name": "python",
   "nbconvert_exporter": "python",
   "pygments_lexer": "ipython3",
   "version": "3.7.4"
  }
 },
 "nbformat": 4,
 "nbformat_minor": 1
}
