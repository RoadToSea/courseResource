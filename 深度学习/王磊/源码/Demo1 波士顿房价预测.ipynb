{
 "cells": [
  {
   "cell_type": "code",
   "execution_count": 1,
   "metadata": {
    "collapsed": false
   },
   "outputs": [
    {
     "name": "stderr",
     "output_type": "stream",
     "text": [
      "/opt/conda/envs/python35-paddle120-env/lib/python3.7/site-packages/paddle/fluid/layers/utils.py:26: DeprecationWarning: `np.int` is a deprecated alias for the builtin `int`. To silence this warning, use `int` by itself. Doing this will not modify any behavior and is safe. When replacing `np.int`, you may wish to use e.g. `np.int64` or `np.int32` to specify the precision. If you wish to review your current use, check the release note link for additional information.\n",
      "Deprecated in NumPy 1.20; for more details and guidance: https://numpy.org/devdocs/release/1.20.0-notes.html#deprecations\n",
      "  def convert_to_list(value, n, name, dtype=np.int):\n",
      "/opt/conda/envs/python35-paddle120-env/lib/python3.7/site-packages/matplotlib/__init__.py:107: DeprecationWarning: Using or importing the ABCs from 'collections' instead of from 'collections.abc' is deprecated, and in 3.8 it will stop working\n",
      "  from collections import MutableMapping\n",
      "/opt/conda/envs/python35-paddle120-env/lib/python3.7/site-packages/matplotlib/rcsetup.py:20: DeprecationWarning: Using or importing the ABCs from 'collections' instead of from 'collections.abc' is deprecated, and in 3.8 it will stop working\n",
      "  from collections import Iterable, Mapping\n",
      "/opt/conda/envs/python35-paddle120-env/lib/python3.7/site-packages/matplotlib/colors.py:53: DeprecationWarning: Using or importing the ABCs from 'collections' instead of from 'collections.abc' is deprecated, and in 3.8 it will stop working\n",
      "  from collections import Sized\n",
      "2024-10-26 15:16:10,961 - INFO - font search path ['/opt/conda/envs/python35-paddle120-env/lib/python3.7/site-packages/matplotlib/mpl-data/fonts/ttf', '/opt/conda/envs/python35-paddle120-env/lib/python3.7/site-packages/matplotlib/mpl-data/fonts/afm', '/opt/conda/envs/python35-paddle120-env/lib/python3.7/site-packages/matplotlib/mpl-data/fonts/pdfcorefonts']\n",
      "2024-10-26 15:16:11,308 - INFO - generated new fontManager\n"
     ]
    }
   ],
   "source": [
    "import paddle.fluid as fluid\r\n",
    "import paddle\r\n",
    "import numpy as np\r\n",
    "import os\r\n",
    "import matplotlib.pyplot as plt"
   ]
  },
  {
   "cell_type": "code",
   "execution_count": 2,
   "metadata": {
    "collapsed": false
   },
   "outputs": [
    {
     "name": "stderr",
     "output_type": "stream",
     "text": [
      "Cache file /home/aistudio/.cache/paddle/dataset/uci_housing/housing.data not found, downloading http://paddlemodels.bj.bcebos.com/uci_housing/housing.data \n",
      "Begin to download\n",
      "............\n",
      "Download finished\n"
     ]
    }
   ],
   "source": [
    "BUF_SIZE=500\r\n",
    "BATCH_SIZE=20\r\n",
    "\r\n",
    "#用于训练的数据提供器，每次从缓存中随机读取批次大小的数据\r\n",
    "train_reader = paddle.batch(\r\n",
    "    paddle.reader.shuffle(paddle.dataset.uci_housing.train(), \r\n",
    "                          buf_size=BUF_SIZE),                    \r\n",
    "    batch_size=BATCH_SIZE)   \r\n",
    "#用于测试的数据提供器，每次从缓存中随机读取批次大小的数据\r\n",
    "test_reader = paddle.batch(\r\n",
    "    paddle.reader.shuffle(paddle.dataset.uci_housing.test(),\r\n",
    "                          buf_size=BUF_SIZE),\r\n",
    "    batch_size=BATCH_SIZE)"
   ]
  },
  {
   "cell_type": "code",
   "execution_count": 3,
   "metadata": {
    "collapsed": false
   },
   "outputs": [
    {
     "name": "stdout",
     "output_type": "stream",
     "text": [
      "(array([-0.0405441 ,  0.06636364, -0.32356227, -0.06916996, -0.03435197,\n",
      "        0.05563625, -0.03475696,  0.02682186, -0.37171335, -0.21419304,\n",
      "       -0.33569506,  0.10143217, -0.21172912]), array([24.]))\n"
     ]
    }
   ],
   "source": [
    "#用于打印，查看uci_housing数据\r\n",
    "train_data=paddle.dataset.uci_housing.train();\r\n",
    "sampledata=next(train_data())\r\n",
    "print(sampledata)"
   ]
  },
  {
   "cell_type": "code",
   "execution_count": 7,
   "metadata": {
    "collapsed": false
   },
   "outputs": [],
   "source": [
    "# 切换到静态图模式\r\n",
    "paddle.enable_static()\r\n",
    "\r\n",
    "# 定义数据输入\r\n",
    "x = fluid.layers.data(name='x', shape=[13], dtype='float32')\r\n",
    "y = fluid.layers.data(name='y', shape=[1], dtype='float32')\r\n",
    "\r\n",
    "# 定义线性回归模型\r\n",
    "y_predict = fluid.layers.fc(input=x, size=1, act=None)"
   ]
  },
  {
   "cell_type": "code",
   "execution_count": 8,
   "metadata": {
    "collapsed": false
   },
   "outputs": [],
   "source": [
    "cost = fluid.layers.square_error_cost(input=y_predict, label=y) #求一个batch的损失值\r\n",
    "avg_cost = fluid.layers.mean(cost)                              #对损失值求平均值"
   ]
  },
  {
   "cell_type": "code",
   "execution_count": 9,
   "metadata": {
    "collapsed": false
   },
   "outputs": [],
   "source": [
    "# 定义优化器\r\n",
    "optimizer = fluid.optimizer.SGDOptimizer(learning_rate=0.001)\r\n",
    "opts = optimizer.minimize(avg_cost)"
   ]
  },
  {
   "cell_type": "code",
   "execution_count": 10,
   "metadata": {
    "collapsed": false
   },
   "outputs": [],
   "source": [
    "test_program = fluid.default_main_program().clone(for_test=True)"
   ]
  },
  {
   "cell_type": "code",
   "execution_count": 11,
   "metadata": {
    "collapsed": false
   },
   "outputs": [
    {
     "data": {
      "text/plain": [
       "[]"
      ]
     },
     "execution_count": 11,
     "metadata": {},
     "output_type": "execute_result"
    }
   ],
   "source": [
    "# 选择使用CPU或GPU\r\n",
    "use_cuda = False  # use_cuda为False,表示运算场所为CPU;use_cuda为True,表示运算场所为GPU           \r\n",
    "place = fluid.CUDAPlace(0) if use_cuda else fluid.CPUPlace()\r\n",
    "exe = fluid.Executor(place)  # 创建一个Executor实例exe\r\n",
    "exe.run(fluid.default_startup_program())  # 初始化参数"
   ]
  },
  {
   "cell_type": "code",
   "execution_count": 12,
   "metadata": {
    "collapsed": false
   },
   "outputs": [],
   "source": [
    "# 定义输入数据维度\r\n",
    "feeder = fluid.DataFeeder(place=place, feed_list=[x, y])"
   ]
  },
  {
   "cell_type": "code",
   "execution_count": 13,
   "metadata": {
    "collapsed": false
   },
   "outputs": [],
   "source": [
    "# 定义迭代相关变量\r\n",
    "iter = 0\r\n",
    "iters = []\r\n",
    "train_costs = []\r\n",
    "\r\n",
    "# 绘制训练过程\r\n",
    "def draw_train_process(iters, train_costs):\r\n",
    "    title = \"Training Cost\"\r\n",
    "    plt.title(title, fontsize=24)\r\n",
    "    plt.xlabel(\"Iteration\", fontsize=14)\r\n",
    "    plt.ylabel(\"Cost\", fontsize=14)\r\n",
    "    plt.plot(iters, train_costs, color='red', label='Training Cost') \r\n",
    "    plt.grid()\r\n",
    "    plt.show()"
   ]
  },
  {
   "cell_type": "code",
   "execution_count": 14,
   "metadata": {
    "collapsed": false
   },
   "outputs": [
    {
     "name": "stdout",
     "output_type": "stream",
     "text": [
      "Pass:0, Cost:747.75293\n",
      "Test:0, Cost:212.10931\n",
      "Pass:1, Cost:746.50897\n",
      "Test:1, Cost:234.59810\n",
      "Pass:2, Cost:636.53113\n",
      "Test:2, Cost:335.39697\n",
      "Pass:3, Cost:493.21918\n",
      "Test:3, Cost:248.06247\n",
      "Pass:4, Cost:584.84882\n",
      "Test:4, Cost:252.69028\n",
      "Pass:5, Cost:416.74228\n",
      "Test:5, Cost:199.66733\n",
      "Pass:6, Cost:521.30157\n",
      "Test:6, Cost:14.15304\n",
      "Pass:7, Cost:390.23972\n",
      "Test:7, Cost:124.15826\n",
      "Pass:8, Cost:314.10260\n",
      "Test:8, Cost:169.25644\n",
      "Pass:9, Cost:232.31192\n",
      "Test:9, Cost:247.29150\n",
      "Pass:10, Cost:237.04155\n",
      "Test:10, Cost:116.64609\n",
      "Pass:11, Cost:329.45276\n",
      "Test:11, Cost:34.40044\n",
      "Pass:12, Cost:157.39798\n",
      "Test:12, Cost:90.77669\n",
      "Pass:13, Cost:191.43965\n",
      "Test:13, Cost:81.90437\n",
      "Pass:14, Cost:281.33859\n",
      "Test:14, Cost:23.00516\n",
      "Pass:15, Cost:296.80591\n",
      "Test:15, Cost:110.43793\n",
      "Pass:16, Cost:243.87383\n",
      "Test:16, Cost:46.44643\n",
      "Pass:17, Cost:200.49084\n",
      "Test:17, Cost:40.25392\n",
      "Pass:18, Cost:203.83830\n",
      "Test:18, Cost:75.55753\n",
      "Pass:19, Cost:172.94516\n",
      "Test:19, Cost:15.01968\n",
      "Pass:20, Cost:301.04221\n",
      "Test:20, Cost:75.39334\n",
      "Pass:21, Cost:188.90253\n",
      "Test:21, Cost:77.07210\n",
      "Pass:22, Cost:236.98410\n",
      "Test:22, Cost:39.63924\n",
      "Pass:23, Cost:223.70601\n",
      "Test:23, Cost:228.66776\n",
      "Pass:24, Cost:61.04734\n",
      "Test:24, Cost:33.29678\n",
      "Pass:25, Cost:99.55153\n",
      "Test:25, Cost:38.23207\n",
      "Pass:26, Cost:173.01440\n",
      "Test:26, Cost:35.74297\n",
      "Pass:27, Cost:187.22971\n",
      "Test:27, Cost:2.70492\n",
      "Pass:28, Cost:52.52691\n",
      "Test:28, Cost:13.06937\n",
      "Pass:29, Cost:95.89591\n",
      "Test:29, Cost:51.63716\n",
      "Pass:30, Cost:114.39368\n",
      "Test:30, Cost:4.83299\n",
      "Pass:31, Cost:40.13604\n",
      "Test:31, Cost:29.89140\n",
      "Pass:32, Cost:94.78149\n",
      "Test:32, Cost:9.91130\n",
      "Pass:33, Cost:54.99892\n",
      "Test:33, Cost:13.14649\n",
      "Pass:34, Cost:58.37665\n",
      "Test:34, Cost:17.72813\n",
      "Pass:35, Cost:38.86269\n",
      "Test:35, Cost:1.52136\n",
      "Pass:36, Cost:60.77162\n",
      "Test:36, Cost:17.49936\n",
      "Pass:37, Cost:82.41865\n",
      "Test:37, Cost:23.55950\n",
      "Pass:38, Cost:53.04338\n",
      "Test:38, Cost:8.30648\n",
      "Pass:39, Cost:60.31485\n",
      "Test:39, Cost:25.91135\n",
      "Pass:40, Cost:65.76968\n",
      "Test:40, Cost:47.13958\n",
      "Pass:41, Cost:101.80217\n",
      "Test:41, Cost:25.30844\n",
      "Pass:42, Cost:35.03286\n",
      "Test:42, Cost:13.14893\n",
      "Pass:43, Cost:102.55021\n",
      "Test:43, Cost:15.42999\n",
      "Pass:44, Cost:82.38748\n",
      "Test:44, Cost:14.97276\n",
      "Pass:45, Cost:78.54491\n",
      "Test:45, Cost:20.04722\n",
      "Pass:46, Cost:80.42530\n",
      "Test:46, Cost:11.50879\n",
      "Pass:47, Cost:63.83899\n",
      "Test:47, Cost:28.14712\n",
      "Pass:48, Cost:76.84864\n",
      "Test:48, Cost:6.61903\n",
      "Pass:49, Cost:121.91302\n",
      "Test:49, Cost:2.09037\n",
      "Saving models to /home/aistudio/work/fit_a_line.inference.model\n"
     ]
    },
    {
     "name": "stderr",
     "output_type": "stream",
     "text": [
      "/opt/conda/envs/python35-paddle120-env/lib/python3.7/site-packages/matplotlib/cbook/__init__.py:2349: DeprecationWarning: Using or importing the ABCs from 'collections' instead of from 'collections.abc' is deprecated, and in 3.8 it will stop working\n",
      "  if isinstance(obj, collections.Iterator):\n",
      "/opt/conda/envs/python35-paddle120-env/lib/python3.7/site-packages/matplotlib/cbook/__init__.py:2366: DeprecationWarning: Using or importing the ABCs from 'collections' instead of from 'collections.abc' is deprecated, and in 3.8 it will stop working\n",
      "  return list(data) if isinstance(data, collections.MappingView) else data\n"
     ]
    },
    {
     "data": {
      "image/png": "[encoded data removed]",
      "text/plain": [
       "<Figure size 640x480 with 1 Axes>"
      ]
     },
     "metadata": {},
     "output_type": "display_data"
    }
   ],
   "source": [
    "# 设置训练轮数\r\n",
    "EPOCH_NUM = 50  # 需要根据需要设置轮数\r\n",
    "model_save_dir = \"/home/aistudio/work/fit_a_line.inference.model\"\r\n",
    "\r\n",
    "# 开始训练\r\n",
    "for pass_id in range(EPOCH_NUM):  # 训练EPOCH_NUM轮\r\n",
    "    train_cost = 0\r\n",
    "    for batch_id, data in enumerate(train_reader()):\r\n",
    "        train_cost = exe.run(program=fluid.default_main_program(),  # 运行主程序\r\n",
    "                             feed=feeder.feed(data),              # 喂入一个batch的训练数据\r\n",
    "                             fetch_list=[avg_cost])    \r\n",
    "        if batch_id % 40 == 0:\r\n",
    "            print(\"Pass:%d, Cost:%0.5f\" % (pass_id, train_cost[0][0]))  # 打印损失值\r\n",
    "        iter = iter + BATCH_SIZE\r\n",
    "        iters.append(iter)\r\n",
    "        train_costs.append(train_cost[0][0])\r\n",
    "\r\n",
    "    # 开始测试\r\n",
    "    test_cost = 0\r\n",
    "    for batch_id, data in enumerate(test_reader()):\r\n",
    "        test_cost = exe.run(program=test_program,\r\n",
    "                            feed=feeder.feed(data),\r\n",
    "                            fetch_list=[avg_cost])\r\n",
    "    print('Test:%d, Cost:%0.5f' % (pass_id, test_cost[0][0]))\r\n",
    "\r\n",
    "# 保存模型\r\n",
    "if not os.path.exists(model_save_dir):\r\n",
    "    os.makedirs(model_save_dir)\r\n",
    "print('Saving models to %s' % (model_save_dir))\r\n",
    "fluid.io.save_inference_model(model_save_dir, ['x'], [y_predict], exe)\r\n",
    "\r\n",
    "# 绘制训练过程\r\n",
    "draw_train_process(iters, train_costs)"
   ]
  },
  {
   "cell_type": "code",
   "execution_count": 15,
   "metadata": {
    "collapsed": false
   },
   "outputs": [],
   "source": [
    "# 推测并绘制结果\r\n",
    "infer_exe = fluid.Executor(place)  # 创建推测用的executor\r\n",
    "inference_scope = fluid.core.Scope()"
   ]
  },
  {
   "cell_type": "code",
   "execution_count": 16,
   "metadata": {
    "collapsed": false
   },
   "outputs": [],
   "source": [
    "infer_results = []\r\n",
    "ground_truths = []\r\n",
    "\r\n",
    "# 绘制真实值和预测值对比图\r\n",
    "def draw_infer_result(ground_truths, infer_results):\r\n",
    "    title = 'Boston'\r\n",
    "    plt.title(title, fontsize=24)\r\n",
    "    x = np.arange(1, 20) \r\n",
    "    y = x\r\n",
    "    plt.plot(x, y)\r\n",
    "    plt.xlabel('Ground Truth', fontsize=14)\r\n",
    "    plt.ylabel('Infer Result', fontsize=14)\r\n",
    "    plt.scatter(ground_truths, infer_results, color='green', label='Infer Result')\r\n",
    "    plt.grid()\r\n",
    "    plt.show()"
   ]
  },
  {
   "cell_type": "code",
   "execution_count": 17,
   "metadata": {
    "collapsed": false
   },
   "outputs": [
    {
     "name": "stdout",
     "output_type": "stream",
     "text": [
      "Infer Results: (House Price)\n",
      "0: 13.20\n",
      "1: 13.09\n",
      "2: 13.00\n",
      "3: 14.39\n",
      "4: 13.80\n",
      "5: 14.26\n",
      "6: 13.42\n",
      "7: 13.67\n",
      "8: 11.82\n",
      "9: 13.40\n",
      "10: 11.06\n",
      "11: 12.67\n",
      "12: 13.29\n",
      "13: 12.72\n",
      "14: 12.29\n",
      "15: 13.70\n",
      "16: 14.33\n",
      "17: 14.26\n",
      "18: 14.65\n",
      "19: 13.53\n",
      "20: 14.09\n",
      "21: 12.79\n",
      "22: 14.55\n",
      "23: 13.67\n",
      "24: 13.83\n",
      "25: 13.26\n",
      "26: 14.34\n",
      "27: 14.24\n",
      "28: 15.04\n",
      "29: 13.99\n",
      "30: 13.70\n",
      "31: 13.32\n",
      "32: 13.32\n",
      "33: 12.43\n",
      "34: 12.29\n",
      "35: 13.75\n",
      "36: 13.76\n",
      "37: 14.24\n",
      "38: 14.36\n",
      "39: 14.25\n",
      "40: 13.25\n",
      "41: 13.00\n",
      "42: 14.18\n",
      "43: 14.39\n",
      "44: 14.36\n",
      "45: 14.14\n",
      "46: 13.65\n",
      "47: 14.54\n",
      "48: 14.63\n",
      "49: 14.95\n",
      "50: 13.53\n",
      "51: 13.81\n",
      "52: 13.36\n",
      "53: 13.59\n",
      "54: 14.53\n",
      "55: 14.89\n",
      "56: 14.54\n",
      "57: 14.95\n",
      "58: 15.07\n",
      "59: 15.26\n",
      "60: 15.68\n",
      "61: 15.65\n",
      "62: 13.85\n",
      "63: 14.59\n",
      "64: 15.26\n",
      "65: 15.78\n",
      "66: 15.44\n",
      "67: 15.76\n",
      "68: 15.86\n",
      "69: 16.20\n",
      "70: 14.52\n",
      "71: 14.29\n",
      "72: 15.04\n",
      "73: 13.75\n",
      "74: 14.76\n",
      "75: 15.22\n",
      "76: 16.44\n",
      "77: 16.64\n",
      "78: 16.80\n",
      "79: 16.81\n",
      "80: 16.34\n",
      "81: 16.57\n",
      "82: 15.58\n",
      "83: 16.23\n",
      "84: 15.68\n",
      "85: 15.02\n",
      "86: 14.44\n",
      "87: 15.79\n",
      "88: 16.44\n",
      "89: 20.50\n",
      "90: 20.73\n",
      "91: 20.66\n",
      "92: 19.41\n",
      "93: 20.10\n",
      "94: 20.35\n",
      "95: 19.84\n",
      "96: 19.98\n",
      "97: 21.21\n",
      "98: 20.88\n",
      "99: 21.19\n",
      "100: 21.09\n",
      "101: 20.84\n",
      "Ground Truth:\n",
      "0: 8.50\n",
      "1: 5.00\n",
      "2: 11.90\n",
      "3: 27.90\n",
      "4: 17.20\n",
      "5: 27.50\n",
      "6: 15.00\n",
      "7: 17.20\n",
      "8: 17.90\n",
      "9: 16.30\n",
      "10: 7.00\n",
      "11: 7.20\n",
      "12: 7.50\n",
      "13: 10.40\n",
      "14: 8.80\n",
      "15: 8.40\n",
      "16: 16.70\n",
      "17: 14.20\n",
      "18: 20.80\n",
      "19: 13.40\n",
      "20: 11.70\n",
      "21: 8.30\n",
      "22: 10.20\n",
      "23: 10.90\n",
      "24: 11.00\n",
      "25: 9.50\n",
      "26: 14.50\n",
      "27: 14.10\n",
      "28: 16.10\n",
      "29: 14.30\n",
      "30: 11.70\n",
      "31: 13.40\n",
      "32: 9.60\n",
      "33: 8.70\n",
      "34: 8.40\n",
      "35: 12.80\n",
      "36: 10.50\n",
      "37: 17.10\n",
      "38: 18.40\n",
      "39: 15.40\n",
      "40: 10.80\n",
      "41: 11.80\n",
      "42: 14.90\n",
      "43: 12.60\n",
      "44: 14.10\n",
      "45: 13.00\n",
      "46: 13.40\n",
      "47: 15.20\n",
      "48: 16.10\n",
      "49: 17.80\n",
      "50: 14.90\n",
      "51: 14.10\n",
      "52: 12.70\n",
      "53: 13.50\n",
      "54: 14.90\n",
      "55: 20.00\n",
      "56: 16.40\n",
      "57: 17.70\n",
      "58: 19.50\n",
      "59: 20.20\n",
      "60: 21.40\n",
      "61: 19.90\n",
      "62: 19.00\n",
      "63: 19.10\n",
      "64: 19.10\n",
      "65: 20.10\n",
      "66: 19.90\n",
      "67: 19.60\n",
      "68: 23.20\n",
      "69: 29.80\n",
      "70: 13.80\n",
      "71: 13.30\n",
      "72: 16.70\n",
      "73: 12.00\n",
      "74: 14.60\n",
      "75: 21.40\n",
      "76: 23.00\n",
      "77: 23.70\n",
      "78: 25.00\n",
      "79: 21.80\n",
      "80: 20.60\n",
      "81: 21.20\n",
      "82: 19.10\n",
      "83: 20.60\n",
      "84: 15.20\n",
      "85: 7.00\n",
      "86: 8.10\n",
      "87: 13.60\n",
      "88: 20.10\n",
      "89: 21.80\n",
      "90: 24.50\n",
      "91: 23.10\n",
      "92: 19.70\n",
      "93: 18.30\n",
      "94: 21.20\n",
      "95: 17.50\n",
      "96: 16.80\n",
      "97: 22.40\n",
      "98: 20.60\n",
      "99: 23.90\n",
      "100: 22.00\n",
      "101: 11.90\n"
     ]
    },
    {
     "data": {
      "image/png": "[encoded data removed]",
      "text/plain": [
       "<Figure size 640x480 with 1 Axes>"
      ]
     },
     "metadata": {},
     "output_type": "display_data"
    }
   ],
   "source": [
    "with fluid.scope_guard(inference_scope):\r\n",
    "    [inference_program, feed_target_names, fetch_targets] = fluid.io.load_inference_model(model_save_dir, infer_exe)\r\n",
    "    infer_reader = paddle.batch(paddle.dataset.uci_housing.test(), batch_size=200)\r\n",
    "    test_data = next(infer_reader())\r\n",
    "    test_x = np.array([data[0] for data in test_data]).astype(\"float32\")\r\n",
    "    test_y = np.array([data[1] for data in test_data]).astype(\"float32\")\r\n",
    "    results = infer_exe.run(inference_program,\r\n",
    "                            feed={feed_target_names[0]: np.array(test_x)},\r\n",
    "                            fetch_list=fetch_targets)\r\n",
    "\r\n",
    "    print(\"Infer Results: (House Price)\")\r\n",
    "    for idx, val in enumerate(results[0]):\r\n",
    "        print(\"%d: %.2f\" % (idx, val))\r\n",
    "        infer_results.append(val)\r\n",
    "    print(\"Ground Truth:\")\r\n",
    "    for idx, val in enumerate(test_y):\r\n",
    "        print(\"%d: %.2f\" % (idx, val))\r\n",
    "        ground_truths.append(val)\r\n",
    "    draw_infer_result(ground_truths, infer_results)"
   ]
  }
 ],
 "metadata": {
  "kernelspec": {
   "display_name": "Python 3",
   "language": "python",
   "name": "py35-paddle1.2.0"
  },
  "language_info": {
   "codemirror_mode": {
    "name": "ipython",
    "version": 3
   },
   "file_extension": ".py",
   "mimetype": "text/x-python",
   "name": "python",
   "nbconvert_exporter": "python",
   "pygments_lexer": "ipython3",
   "version": "3.7.4"
  }
 },
 "nbformat": 4,
 "nbformat_minor": 1
}
