{
 "cells": [
  {
   "cell_type": "markdown",
   "metadata": {
    "collapsed": false
   },
   "source": [
    "# **任务描述：**\n",
    "\n",
    "构建一个模型，根据鸢尾花的花萼和花瓣大小将其分为三种不同的品种。\n",
    "\n",
    "![](https://ai-studio-static-online.cdn.bcebos.com/dd74666475b549fcae99ac2aff67488f015cdd76569d4d208909983bcf40fe3c)"
   ]
  },
  {
   "cell_type": "markdown",
   "metadata": {
    "collapsed": false
   },
   "source": [
    "\n",
    "# **数据集**\n",
    "总共包含150行数据\n",
    "\n",
    "每一行数据由 4 个特征值及一个目标值组成。\n",
    "\n",
    "4 个特征值分别为：萼片长度、萼片宽度、花瓣长度、花瓣宽度\n",
    "\n",
    "目标值为三种不同类别的鸢尾花，分别为：\tIris Setosa、Iris Versicolour、Iris Virginica\n",
    "\n",
    "![](https://ai-studio-static-online.cdn.bcebos.com/8bdc417331ef45d5a380d2769f3a8bcd7b361212b20d4e78b2a32ee9c7a7b1fa)"
   ]
  },
  {
   "cell_type": "markdown",
   "metadata": {
    "collapsed": false
   },
   "source": [
    "\n",
    "**首先导入必要的包：**\n",
    "\n",
    "**numpy**：python第三方库，用于科学计算\n",
    "\n",
    "**matplotlib**:python第三方库，主要用于进行可视化\n",
    "\n",
    "**sklearn**:python的重要机器学习库，其中封装了大量的机器学习算法，如：分类、回归、降维以及聚类"
   ]
  },
  {
   "cell_type": "code",
   "execution_count": 1,
   "metadata": {
    "collapsed": false
   },
   "outputs": [],
   "source": [
    "import numpy as np                \r\n",
    "from matplotlib import colors     \r\n",
    "\r\n",
    "from sklearn import model_selection\r\n",
    "import matplotlib.pyplot as plt\r\n",
    "import matplotlib as mpl"
   ]
  },
  {
   "cell_type": "code",
   "execution_count": 2,
   "metadata": {
    "collapsed": false
   },
   "outputs": [],
   "source": [
    "#若提示缺少matplotlib，则可使用以下命令pip安装matplotlib\n",
    "#!pip install matplotlib"
   ]
  },
  {
   "cell_type": "markdown",
   "metadata": {
    "collapsed": false
   },
   "source": [
    "# **Step1.数据准备**\n",
    "\n",
    "(1)从指定路径下加载数据\n",
    "\n",
    "(2)对加载的数据进行数据分割，x_train,y_train,x_test,y_test分别表示训练集特征、训练集标签、测试集特征、测试集标签"
   ]
  },
  {
   "cell_type": "code",
   "execution_count": 2,
   "metadata": {
    "collapsed": false
   },
   "outputs": [],
   "source": [
    "#*************将字符串转为整型，便于数据加载***********************\r\n",
    "def iris_type(s):\r\n",
    "    it = {b'Iris-setosa':0, b'Iris-versicolor':1, b'Iris-virginica':2}\r\n",
    "    return it[s]"
   ]
  },
  {
   "cell_type": "code",
   "execution_count": 6,
   "metadata": {
    "collapsed": false
   },
   "outputs": [],
   "source": [
    "#加载数据\n",
    "data_path='/home/aistudio/data/data2301/iris.data'          #数据文件的路径\n",
    "data = np.loadtxt(data_path,                                #数据文件路径\n",
    "                  dtype=float ,                              #数据类型\n",
    "                  delimiter=',' ,                            #数据分隔符\n",
    "                  converters={4 :iris_type})                 #将第5列使用函数iris_type进行转换\n",
    "#print(data)                                                #data为二维数组，data.shape=(150, 5)\n",
    "#print(data.shape)\n",
    "#数据分割\n",
    "x, y = np.split(data,                                       #要切分的数组\n",
    "                (4 ,),                                       #沿轴切分的位置，第5列开始往后为y\n",
    "                axis=1 )                                     #代表纵向分割，按列分割\n",
    "x = x[:,  0:2 ]                                               #在X中我们取前两列作为特征，为了后面的可视化。x[:,0:2]代表第一维(行)全取，第二维(列)取0~2\n",
    "#print(x)\n",
    "x_train,x_test,y_train,y_test=model_selection.train_test_split(x,              #所要划分的样本特征集\n",
    "                                                               y,              #所要划分的样本结果\n",
    "                                                               random_state=1 , #随机数种子\n",
    "                                                               test_size=0.2 )  #测试样本占比"
   ]
  },
  {
   "cell_type": "markdown",
   "metadata": {
    "collapsed": false
   },
   "source": [
    "# **Step2.模型搭建**\n",
    "\n",
    "C越大，相当于惩罚松弛变量，希望松弛变量接近0，即对误分类的惩罚增大，趋向于对训练集全分对的情况，这样对训练集测试时准确率很高，但泛化能力弱。\n",
    "C值小，对误分类的惩罚减小，允许容错，将他们当成噪声点，泛化能力较强。\n",
    "\n",
    "kernel='linear'时，为线性核\n",
    "\n",
    "decision_function_shape='ovr'时，为one v rest，即一个类别与其他类别进行划分，\n",
    "\n",
    "decision_function_shape='ovo'时，为one v one，即将类别两两之间进行划分，用二分类的方法模拟多分类的结果。"
   ]
  },
  {
   "cell_type": "code",
   "execution_count": 10,
   "metadata": {
    "collapsed": false
   },
   "outputs": [],
   "source": [
    "#**********************SVM分类器构建*************************\r\n",
    "def classifier():\r\n",
    "    clf = svm.SVC(C=0.8 ,                         #误差项惩罚系数,默认值是1\r\n",
    "                  kernel='linear',               #线性核 kenrel=\"rbf\":高斯核\r\n",
    "                  decision_function_shape='ovr') #决策函数\r\n",
    "    return clf"
   ]
  },
  {
   "cell_type": "code",
   "execution_count": 12,
   "metadata": {
    "collapsed": false
   },
   "outputs": [],
   "source": [
    "from sklearn import model_selection, svm\n",
    "\n",
    "# 2.定义模型：SVM模型定义\n",
    "clf = classifier()"
   ]
  },
  {
   "cell_type": "markdown",
   "metadata": {
    "collapsed": false
   },
   "source": [
    "# **Step3.模型训练**"
   ]
  },
  {
   "cell_type": "code",
   "execution_count": 13,
   "metadata": {
    "collapsed": false
   },
   "outputs": [],
   "source": [
    "#***********************训练模型*****************************\r\n",
    "def train(clf,x_train,y_train):\r\n",
    "    clf.fit( x_train,         #训练集特征向量\r\n",
    "            y_train.ravel()) #训练集目标值"
   ]
  },
  {
   "cell_type": "code",
   "execution_count": 14,
   "metadata": {
    "collapsed": false
   },
   "outputs": [],
   "source": [
    "# 3.训练SVM模型\n",
    "train(clf,x_train,y_train )"
   ]
  },
  {
   "cell_type": "markdown",
   "metadata": {
    "collapsed": false
   },
   "source": [
    "# **Step4.模型评估**"
   ]
  },
  {
   "cell_type": "code",
   "execution_count": 15,
   "metadata": {
    "collapsed": false
   },
   "outputs": [],
   "source": [
    "#**************并判断a b是否相等，计算acc的均值*************\r\n",
    "def show_accuracy(a, b, tip):\r\n",
    "    acc = a.ravel() == b.ravel()\r\n",
    "    print('%s Accuracy:%.3f' %(tip, np.mean(acc)))"
   ]
  },
  {
   "cell_type": "code",
   "execution_count": 16,
   "metadata": {
    "collapsed": false
   },
   "outputs": [],
   "source": [
    "def print_accuracy(clf,x_train,y_train,x_test,y_test):\r\n",
    "    #分别打印训练集和测试集的准确率  score(x_train,y_train):表示输出x_train,y_train在模型上的准确率\r\n",
    "    print('trianing prediction:%.3f' %(clf.score(x_train, y_train)))\r\n",
    "    print('test data prediction:%.3f' %(clf.score(x_test, y_test)))\r\n",
    "    #原始结果与预测结果进行对比   predict()表示对x_train样本进行预测，返回样本类别\r\n",
    "    show_accuracy(clf.predict(x_train), y_train, 'traing data')\r\n",
    "    show_accuracy(clf.predict(x_test), y_test, 'testing data')\r\n",
    "    #计算决策函数的值，表示x到各分割平面的距离\r\n",
    "    print('decision_function:\\n', clf.decision_function(x_train))"
   ]
  },
  {
   "cell_type": "code",
   "execution_count": 17,
   "metadata": {
    "collapsed": false
   },
   "outputs": [
    {
     "name": "stdout",
     "output_type": "stream",
     "text": [
      "trianing prediction:0.808\n",
      "test data prediction:0.767\n",
      "traing data Accuracy:0.808\n",
      "testing data Accuracy:0.767\n",
      "decision_function:\n",
      " [[-0.24991711  1.2042151   2.19527349]\n",
      " [-0.30144975  1.25525744  2.28694265]\n",
      " [-0.24281146  2.24318221  0.99502737]\n",
      " [-0.27672959  1.2395788   2.23333857]\n",
      " [-0.23718563  2.21927504  1.11750062]\n",
      " [ 2.24124823 -0.20327106  0.82871773]\n",
      " [-0.24916991  2.25488962  0.92530871]\n",
      " [ 2.2222485   0.86479883 -0.18955173]\n",
      " [-0.28036071  1.24228023  2.24154874]\n",
      " [-0.29229603  1.26471537  2.25517554]\n",
      " [-0.28446963  1.23293167  2.25928719]\n",
      " [ 2.24433312  0.82415773 -0.20653214]\n",
      " [-0.28058919  2.2680431   1.18280403]\n",
      " [-0.2685366   1.22653818  2.22306948]\n",
      " [-0.28088362  1.23636902  2.24824728]\n",
      " [-0.3051288   1.27363886  2.28725744]\n",
      " [ 2.19125377 -0.19835874  1.03664074]\n",
      " [ 2.25909278  0.7973515  -0.21992546]\n",
      " [ 2.23082124  1.05792561 -0.23704919]\n",
      " [ 0.9071986   2.20602139 -0.18401877]\n",
      " [ 2.23542016  0.85310906 -0.20593739]\n",
      " [ 2.17688585 -0.13662868  0.89878446]\n",
      " [-0.2901959   1.13009006  2.28629999]\n",
      " [-0.2849149   1.2256961   2.26370915]\n",
      " [-0.29702633  1.25351358  2.277823  ]\n",
      " [-0.27672959  1.2395788   2.23333857]\n",
      " [-0.26773664  1.23366473  2.21155174]\n",
      " [-0.18376448  1.04634559  2.17207981]\n",
      " [-0.3034019   1.26567438  2.28710058]\n",
      " [-0.19335707  2.1789894   1.06048442]\n",
      " [ 2.26111102  0.82507149 -0.23839539]\n",
      " [-0.25175432  2.24568274  1.07353366]\n",
      " [-0.27612009  1.24511631  2.22395753]\n",
      " [ 2.23082124  1.05792561 -0.23704919]\n",
      " [ 2.2564785   0.88137735 -0.24525952]\n",
      " [-0.27392297  1.22235345  2.24092419]\n",
      " [ 2.27186349  0.81063773 -0.25217964]\n",
      " [-0.24991711  1.2042151   2.19527349]\n",
      " [-0.26570402  1.19126129  2.24029108]\n",
      " [-0.27848257  1.2178274   2.2538024 ]\n",
      " [-0.22451542  2.21500409  1.06585832]\n",
      " [-0.27155037  1.18375822  2.2533339 ]\n",
      " [-0.24054376  1.19871464  2.17582039]\n",
      " [ 2.26342438 -0.22589317  0.79171647]\n",
      " [-0.28058919  2.2680431   1.18280403]\n",
      " [-0.27325118  1.23002938  2.23296907]\n",
      " [-0.27392297  1.22235345  2.24092419]\n",
      " [ 0.83829222  2.24377366 -0.21341635]\n",
      " [-0.24516302  1.14882472  2.2212494 ]\n",
      " [-0.23166652  2.24053482  0.92047491]\n",
      " [ 2.22969047 -0.19768814  0.85619186]\n",
      " [ 2.22880454  0.99577113 -0.22838164]\n",
      " [ 2.27145869 -0.24964429  0.80531071]\n",
      " [-0.27155037  1.18375822  2.2533339 ]\n",
      " [ 2.26483527  0.94178326 -0.26172128]\n",
      " [-0.26110752  2.23705292  1.1785139 ]\n",
      " [-0.27982727  1.24751212  2.23370536]\n",
      " [-0.22879722  1.19272468  2.14998616]\n",
      " [ 2.23358198  0.83241849 -0.19030886]\n",
      " [ 2.22452335  0.89510197 -0.20533704]\n",
      " [-0.2457942   2.23080526  1.1192022 ]\n",
      " [ 2.22880454  0.99577113 -0.22838164]\n",
      " [-0.29975002  1.26103019  2.28055184]\n",
      " [-0.26301911  1.22280275  2.21100325]\n",
      " [-0.30016925  1.25327954  2.28493414]\n",
      " [-0.2813963   1.22963701  2.2540346 ]\n",
      " [-0.28697192  2.26788659  1.2256914 ]\n",
      " [-0.22353839  1.09045989  2.20818498]\n",
      " [-0.28117478  1.14500651  2.27402976]\n",
      " [-0.18956974  2.19344513  0.97988104]\n",
      " [ 2.25743255 -0.25828463  1.01583138]\n",
      " [-0.2457942   2.23080526  1.1192022 ]\n",
      " [ 2.17277768  1.22898718 -0.25528063]\n",
      " [-0.24124254  2.24831388  0.92286901]\n",
      " [-0.2849149   1.2256961   2.26370915]\n",
      " [ 2.24579933  0.84272184 -0.21897044]\n",
      " [-0.28890998  1.24952476  2.25968873]\n",
      " [ 2.25299223  0.81668128 -0.21944995]\n",
      " [ 2.26111102  0.82507149 -0.23839539]\n",
      " [-0.23642368  1.10779426  2.22078495]\n",
      " [-0.20799903  2.21040083  0.9835351 ]\n",
      " [-0.27904302  1.20814609  2.25888125]\n",
      " [ 2.23719183  0.87970197 -0.21848687]\n",
      " [ 2.25804076  0.78683693 -0.20770513]\n",
      " [-0.20036305  1.13877998  2.14747696]\n",
      " [ 2.2575743   0.91742515 -0.25144563]\n",
      " [-0.2457942   2.23080526  1.1192022 ]\n",
      " [ 2.24054953  0.9647293  -0.23738931]\n",
      " [-0.27392297  1.22235345  2.24092419]\n",
      " [ 1.04178458  2.22068685 -0.22589065]\n",
      " [ 2.26302243  0.86771692 -0.25169177]\n",
      " [-0.25967114  1.18457321  2.23184401]\n",
      " [ 2.27008204  0.91974964 -0.26603261]\n",
      " [-0.16478644  2.17106379  0.9763103 ]\n",
      " [ 2.25967478  1.03492895 -0.26153197]\n",
      " [-0.24124254  2.24831388  0.92286901]\n",
      " [-0.220911    2.26253025  0.78819329]\n",
      " [ 2.24433312  0.82415773 -0.20653214]\n",
      " [ 2.21629138  1.08000401 -0.22797453]\n",
      " [ 0.94499808  2.23194749 -0.22546394]\n",
      " [ 2.2787295   0.77880195 -0.25266172]\n",
      " [-0.22879722  1.19272468  2.14998616]\n",
      " [-0.25647454  1.21879654  2.1959717 ]\n",
      " [ 2.24579933  0.84272184 -0.21897044]\n",
      " [-0.27848257  1.2178274   2.2538024 ]\n",
      " [-0.21088734  2.19937515  1.06319809]\n",
      " [-0.28656383  2.27063398  1.2147421 ]\n",
      " [-0.28535213  1.21733665  2.26763273]\n",
      " [-0.2457942   2.23080526  1.1192022 ]\n",
      " [ 2.18136055  0.8932065  -0.13975588]\n",
      " [ 2.19696244  1.09880525 -0.21701131]\n",
      " [-0.27114143  2.24778105  1.1980246 ]\n",
      " [-0.26207613  1.23041878  2.19666289]\n",
      " [-0.29382184  1.2442528   2.27479662]\n",
      " [-0.24432781  2.23739126  1.07102463]\n",
      " [-0.27256402  1.23671218  2.2235153 ]\n",
      " [-0.26483213  1.20360155  2.23222183]\n",
      " [-0.28211449  2.25818853  1.22483139]\n",
      " [-0.27848257  1.2178274   2.2538024 ]\n",
      " [ 2.22880454  0.99577113 -0.22838164]]\n"
     ]
    }
   ],
   "source": [
    "# 4.模型评估\n",
    "print_accuracy(clf,x_train,y_train,x_test,y_test)"
   ]
  },
  {
   "cell_type": "markdown",
   "metadata": {
    "collapsed": false
   },
   "source": [
    "# **Step5.模型使用**"
   ]
  },
  {
   "cell_type": "code",
   "execution_count": 18,
   "metadata": {
    "collapsed": false
   },
   "outputs": [],
   "source": [
    "def draw(clf, x):\r\n",
    "    iris_feature = 'sepal length', 'sepal width', 'petal lenght', 'petal width'\r\n",
    "    # 开始画图\r\n",
    "    x1_min, x1_max = x[:, 0].min(), x[:, 0].max()               #第0列的范围\r\n",
    "    x2_min, x2_max = x[:, 1].min(), x[:, 1].max()               #第1列的范围\r\n",
    "    x1, x2 = np.mgrid[x1_min:x1_max:200j, x2_min:x2_max:200j]   #生成网格采样点\r\n",
    "    grid_test = np.stack((x1.flat, x2.flat), axis=1)            #stack():沿着新的轴加入一系列数组\r\n",
    "    print('grid_test:\\n', grid_test)\r\n",
    "    # 输出样本到决策面的距离\r\n",
    "    z = clf.decision_function(grid_test)\r\n",
    "    print('the distance to decision plane:\\n', z)\r\n",
    "    \r\n",
    "    grid_hat = clf.predict(grid_test)                           # 预测分类值 得到【0,0.。。。2,2,2】\r\n",
    "    print('grid_hat:\\n', grid_hat)  \r\n",
    "    grid_hat = grid_hat.reshape(x1.shape)                       # reshape grid_hat和x1形状一致\r\n",
    "                                                                #若3*3矩阵e，则e.shape()为3*3,表示3行3列   \r\n",
    " \r\n",
    "    cm_light = mpl.colors.ListedColormap(['#A0FFA0', '#FFA0A0', '#A0A0FF'])\r\n",
    "    cm_dark = mpl.colors.ListedColormap(['g', 'r', 'b'])\r\n",
    " \r\n",
    "    plt.pcolormesh(x1, x2, grid_hat, cmap=cm_light)                                   # pcolormesh(x,y,z,cmap)这里参数代入\r\n",
    "                                                                                      # x1，x2，grid_hat，cmap=cm_light绘制的是背景。\r\n",
    "    plt.scatter(x[:, 0], x[:, 1], c=np.squeeze(y), edgecolor='k', s=50, cmap=cm_dark) # 样本点\r\n",
    "    plt.scatter(x_test[:, 0], x_test[:, 1], s=120, facecolor='none', zorder=10)       # 测试点\r\n",
    "    plt.xlabel(iris_feature[0], fontsize=20)\r\n",
    "    plt.ylabel(iris_feature[1], fontsize=20)\r\n",
    "    plt.xlim(x1_min, x1_max)\r\n",
    "    plt.ylim(x2_min, x2_max)\r\n",
    "    plt.title('svm in iris data classification', fontsize=30)\r\n",
    "    plt.grid()\r\n",
    "    plt.show()"
   ]
  },
  {
   "cell_type": "code",
   "execution_count": 20,
   "metadata": {
    "collapsed": false
   },
   "outputs": [
    {
     "name": "stdout",
     "output_type": "stream",
     "text": [
      "grid_test:\n",
      " [[4.3       2.       ]\n",
      " [4.3       2.0120603]\n",
      " [4.3       2.0241206]\n",
      " ...\n",
      " [7.9       4.3758794]\n",
      " [7.9       4.3879397]\n",
      " [7.9       4.4      ]]\n",
      "the distance to decision plane:\n",
      " [[ 1.15418548  2.24935988 -0.26432263]\n",
      " [ 1.15805875  2.2485129  -0.26434377]\n",
      " [ 1.16176809  2.24764867 -0.2643649 ]\n",
      " ...\n",
      " [-0.28260705  0.82993354  2.28954779]\n",
      " [-0.28228765  0.82682418  2.28953928]\n",
      " [-0.2819642   0.82383103  2.28953076]]\n",
      "grid_hat:\n",
      " [1. 1. 1. ... 2. 2. 2.]\n"
     ]
    },
    {
     "data": {
      "image/png": "[encoded data removed]",
      "text/plain": [
       "<Figure size 432x288 with 1 Axes>"
      ]
     },
     "metadata": {},
     "output_type": "display_data"
    }
   ],
   "source": [
    "# 5.模型使用\n",
    "draw(clf,x )"
   ]
  },
  {
   "cell_type": "code",
   "execution_count": null,
   "metadata": {
    "collapsed": false
   },
   "outputs": [],
   "source": []
  }
 ],
 "metadata": {
  "kernelspec": {
   "display_name": "Python 3",
   "language": "python",
   "name": "py35-paddle1.2.0"
  },
  "language_info": {
   "codemirror_mode": {
    "name": "ipython",
    "version": 3
   },
   "file_extension": ".py",
   "mimetype": "text/x-python",
   "name": "python",
   "nbconvert_exporter": "python",
   "pygments_lexer": "ipython3",
   "version": "3.7.4"
  }
 },
 "nbformat": 4,
 "nbformat_minor": 1
}
