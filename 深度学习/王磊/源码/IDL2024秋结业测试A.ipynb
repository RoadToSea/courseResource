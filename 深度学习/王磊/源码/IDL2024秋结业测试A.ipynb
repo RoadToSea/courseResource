{
 "cells": [
  {
   "cell_type": "code",
   "execution_count": 1,
   "metadata": {
    "collapsed": false
   },
   "outputs": [
    {
     "name": "stderr",
     "output_type": "stream",
     "text": [
      "/opt/conda/envs/python35-paddle120-env/lib/python3.7/site-packages/paddle/fluid/layers/utils.py:26: DeprecationWarning: `np.int` is a deprecated alias for the builtin `int`. To silence this warning, use `int` by itself. Doing this will not modify any behavior and is safe. When replacing `np.int`, you may wish to use e.g. `np.int64` or `np.int32` to specify the precision. If you wish to review your current use, check the release note link for additional information.\n",
      "Deprecated in NumPy 1.20; for more details and guidance: https://numpy.org/devdocs/release/1.20.0-notes.html#deprecations\n",
      "  def convert_to_list(value, n, name, dtype=np.int):\n"
     ]
    }
   ],
   "source": [
    "from paddle import fluid\r\n",
    "import numpy as np"
   ]
  },
  {
   "cell_type": "code",
   "execution_count": 2,
   "metadata": {
    "collapsed": false
   },
   "outputs": [],
   "source": [
    "train_data = np.array([[0, 0], [0, 1], [1, 0], [1, 1]], dtype='float32')\r\n",
    "y_true = np.array([[1], [0], [0], [1]], dtype='float32')\r\n"
   ]
  },
  {
   "cell_type": "code",
   "execution_count": 3,
   "metadata": {
    "collapsed": false
   },
   "outputs": [],
   "source": [
    "import paddle\r\n",
    "paddle.enable_static()"
   ]
  },
  {
   "cell_type": "code",
   "execution_count": 4,
   "metadata": {
    "collapsed": false
   },
   "outputs": [],
   "source": [
    "x = fluid.data(name='x', shape=[None, 2], dtype='float32')\r\n",
    "\r\n",
    "## 隐藏层1\r\n",
    "hidden = fluid.layers.fc(input=x, size=4, act='tanh')\r\n",
    "\r\n",
    "## 隐藏层2\r\n",
    "hidden2 = fluid.layers.fc(input=hidden, size=4, act='tanh')  # 填写缺失部分\r\n",
    "\r\n",
    "## 输出层\r\n",
    "y_predict = fluid.layers.fc(input=hidden2, size=1, act='tanh') "
   ]
  },
  {
   "cell_type": "code",
   "execution_count": 5,
   "metadata": {
    "collapsed": false
   },
   "outputs": [],
   "source": [
    "y = fluid.data(name='y', shape=[None, 1], dtype='float32')\r\n",
    "cost = fluid.layers.square_error_cost(input=y_predict, label=y)\r\n",
    "avg_cost = fluid.layers.mean(cost)"
   ]
  },
  {
   "cell_type": "code",
   "execution_count": 6,
   "metadata": {
    "collapsed": false
   },
   "outputs": [],
   "source": [
    "# 优化方法(优化器)(要求：优化器采用SGD优化器)\r\n",
    "sgd_optimizer = fluid.optimizer.SGD(learning_rate=0.1)  # 填写缺失部分\r\n",
    "optimize_ops, params_grads = sgd_optimizer.minimize(avg_cost)\r\n"
   ]
  },
  {
   "cell_type": "code",
   "execution_count": 7,
   "metadata": {
    "collapsed": false
   },
   "outputs": [
    {
     "data": {
      "text/plain": [
       "[]"
      ]
     },
     "execution_count": 7,
     "metadata": {},
     "output_type": "execute_result"
    }
   ],
   "source": [
    "cpu = fluid.CPUPlace()\r\n",
    "exe = fluid.Executor(cpu)\r\n",
    "exe.run(fluid.default_startup_program())"
   ]
  },
  {
   "cell_type": "code",
   "execution_count": 11,
   "metadata": {
    "collapsed": false
   },
   "outputs": [
    {
     "name": "stdout",
     "output_type": "stream",
     "text": [
      "王磊202231060435\r"
     ]
    }
   ],
   "source": [
    "for i in range(1000):\r\n",
    "    out_predict, out_cost = exe.run(\r\n",
    "        program=fluid.default_main_program(),\r\n",
    "        feed={'x': train_data, 'y': y_true},\r\n",
    "        fetch_list=[y_predict, avg_cost])\r\n",
    "\r\n",
    "    print(\"训练轮次:%d, Cost:%0.5f\" % (i, out_cost[0]))\r\n",
    "print(\"王磊202231060435\")"
   ]
  },
  {
   "cell_type": "code",
   "execution_count": 12,
   "metadata": {
    "collapsed": false
   },
   "outputs": [],
   "source": [
    "test_data = np.array([[0, 0], [1, 1], [1, 0], [0, 1]], dtype='float32')\r\n",
    "\r\n",
    "test_result = exe.run(\r\n",
    "    program=fluid.default_main_program(),\r\n",
    "    feed={'x': test_data, 'y': y_true},\r\n",
    "    fetch_list=[y_predict])"
   ]
  },
  {
   "cell_type": "code",
   "execution_count": 13,
   "metadata": {
    "collapsed": false
   },
   "outputs": [
    {
     "name": "stdout",
     "output_type": "stream",
     "text": [
      "[[[1]\n",
      "  [1]\n",
      "  [0]\n",
      "  [0]]]\n"
     ]
    }
   ],
   "source": [
    "print(np.round(test_result).astype(int))"
   ]
  }
 ],
 "metadata": {
  "kernelspec": {
   "display_name": "Python 3",
   "language": "python",
   "name": "py35-paddle1.2.0"
  },
  "language_info": {
   "codemirror_mode": {
    "name": "ipython",
    "version": 3
   },
   "file_extension": ".py",
   "mimetype": "text/x-python",
   "name": "python",
   "nbconvert_exporter": "python",
   "pygments_lexer": "ipython3",
   "version": "3.7.4"
  }
 },
 "nbformat": 4,
 "nbformat_minor": 1
}
