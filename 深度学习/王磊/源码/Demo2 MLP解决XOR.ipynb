{
 "cells": [
  {
   "cell_type": "code",
   "execution_count": 32,
   "metadata": {
    "collapsed": false
   },
   "outputs": [],
   "source": [
    "#数据集,重启后自动还原\r\n",
    "!ls /home/aistudio/data\r\n"
   ]
  },
  {
   "cell_type": "code",
   "execution_count": 33,
   "metadata": {
    "collapsed": false
   },
   "outputs": [],
   "source": [
    "#工作区,持续保存\r\n",
    "!ls /home/aistudio/work"
   ]
  },
  {
   "cell_type": "code",
   "execution_count": 34,
   "metadata": {
    "collapsed": false
   },
   "outputs": [],
   "source": [
    "#加载库\r\n",
    "from paddle import fluid\r\n",
    "import numpy as np\r\n"
   ]
  },
  {
   "cell_type": "code",
   "execution_count": 35,
   "metadata": {
    "collapsed": false
   },
   "outputs": [],
   "source": [
    "#定义输入数据\r\n",
    "train_data = np.array([[0,0],[0,1],[1,0],[1,1]], dtype='float32')\r\n",
    "y_true = np.array([[0],[1],[1],[0]], dtype='float32')\r\n"
   ]
  },
  {
   "cell_type": "code",
   "execution_count": 36,
   "metadata": {
    "collapsed": false
   },
   "outputs": [],
   "source": [
    "import paddle\r\n",
    "paddle.enable_static()\r\n",
    "#全连接神经网络\r\n",
    "##输入层\r\n",
    "x = fluid.data(name='x', shape=[None, 2], dtype='float32')\r\n",
    "##隐藏层\r\n",
    "hidden = fluid.layers.fc(input=x, size=5, act='tanh')\r\n",
    "##输出层\r\n",
    "y_predict = fluid.layers.fc(input=hidden, size=1,act='tanh')\r\n"
   ]
  },
  {
   "cell_type": "code",
   "execution_count": 37,
   "metadata": {
    "collapsed": false
   },
   "outputs": [],
   "source": [
    "# 损失\r\n",
    "y = fluid.data(name='y', shape=[None, 1], dtype='float32')\r\n",
    "cost = fluid.layers.square_error_cost(input=y_predict, label=y)\r\n",
    "avg_cost = fluid.layers.mean(cost)\r\n"
   ]
  },
  {
   "cell_type": "code",
   "execution_count": 38,
   "metadata": {
    "collapsed": false
   },
   "outputs": [],
   "source": [
    "#优化方法(优化器)\r\n",
    "#可参考https://www.paddlepaddle.org.cn/documentaation/docs/zh/api_cn/optimizer_cn/SGDOptimizer_cnhtml\r\n",
    "sgd_optimizer = fluid.optimizer.SGD(learning_rate=0.1)\r\n",
    "optimize_ops, params_grads = sgd_optimizer.minimize(avg_cost)\r\n"
   ]
  },
  {
   "cell_type": "code",
   "execution_count": 39,
   "metadata": {
    "collapsed": false
   },
   "outputs": [
    {
     "data": {
      "text/plain": [
       "[]"
      ]
     },
     "execution_count": 39,
     "metadata": {},
     "output_type": "execute_result"
    }
   ],
   "source": [
    "# 执行器\r\n",
    "cpu = fluid.CPUPlace()\r\n",
    "exe = fluid.Executor(cpu)\r\n",
    "exe.run(fluid.default_startup_program())\r\n"
   ]
  },
  {
   "cell_type": "code",
   "execution_count": 40,
   "metadata": {
    "collapsed": false
   },
   "outputs": [
    {
     "name": "stdout",
     "output_type": "stream",
     "text": [
      "训练轮次:999,Cost:0.00141\r"
     ]
    }
   ],
   "source": [
    "#训练\r\n",
    "for i in range(1000):\r\n",
    "    out_predict, out_cost = exe.run(\r\n",
    "        program = fluid.default_main_program(),\r\n",
    "        feed = {'x':train_data, 'y':y_true},\r\n",
    "        fetch_list = [y_predict, avg_cost])\r\n",
    "    print(\"训练轮次:%d,Cost:%0.5f\"%(i,out_cost[0]))\r\n"
   ]
  },
  {
   "cell_type": "code",
   "execution_count": 41,
   "metadata": {
    "collapsed": false
   },
   "outputs": [
    {
     "name": "stdout",
     "output_type": "stream",
     "text": [
      "[[0.00343929]\n",
      " [0.95256925]\n",
      " [0.942072  ]\n",
      " [0.00518061]]\n"
     ]
    }
   ],
   "source": [
    "#打印结果并观察\r\n",
    "print(out_predict)\r\n"
   ]
  }
 ],
 "metadata": {
  "kernelspec": {
   "display_name": "Python 3",
   "language": "python",
   "name": "py35-paddle1.2.0"
  },
  "language_info": {
   "codemirror_mode": {
    "name": "ipython",
    "version": 3
   },
   "file_extension": ".py",
   "mimetype": "text/x-python",
   "name": "python",
   "nbconvert_exporter": "python",
   "pygments_lexer": "ipython3",
   "version": "3.7.4"
  }
 },
 "nbformat": 4,
 "nbformat_minor": 1
}
