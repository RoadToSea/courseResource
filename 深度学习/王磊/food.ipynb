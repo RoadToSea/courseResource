import io
import os
import paddle
import paddle.vision.transforms as T
import numpy as np
from PIL import Image
from sklearn.metrics import classification_report
import matplotlib.pyplot as plt
from matplotlib import rcParams
# 数据集路径
DATA_ROOT = 'work/food-11'
LABEL_MAP = [
    "面包", "乳制品", "甜点", "鸡蛋", "油炸食品", "肉类",
    "面条or意大利面", "米饭", "海鲜", "汤", "蔬菜or水果",
]


# -------------------------------
# 数据预处理和封装
# -------------------------------

class FoodDataset(paddle.io.Dataset):
    def __init__(self, mode='training'):
        assert mode in ['training', 'validation', 'testing'], 'mode is one of train, valid, test.'
        self.data = []
        with open(f'{DATA_ROOT}/{mode}.txt', 'r') as f:
            for line in f.readlines():
                info = line.strip().split('\t')
                if len(info) > 1:
                    self.data.append([info[0].strip(), info[1].strip()])
        self.transforms = T.Compose([
            T.Resize((256, 256)),
            T.RandomCrop((100, 100)) if mode == 'training' else T.CenterCrop((100, 100)),
            T.RandomRotation(15) if mode == 'training' else T.ToTensor(),
            T.ColorJitter(brightness=0.2, contrast=0.2, saturation=0.2, hue=0.2),
            T.GaussianBlur(kernel_size=(5, 5), sigma=(0.1, 2.0)),
            T.RandomHorizontalFlip(0.5) if mode == 'training' else T.ToTensor(),
            T.ToTensor(),
            T.Normalize(mean=[0.485, 0.456, 0.406], std=[0.229, 0.224, 0.225])
        ])

    def __getitem__(self, index):
        image_file, label = self.data[index]
        image = Image.open(image_file).convert('RGB')
        image = self.transforms(image)
        return image, np.array(label, dtype='int64')

    def __len__(self):
        return len(self.data)


# 数据加载
training_dataset = FoodDataset('training')
validation_dataset = FoodDataset('validation')
testing_dataset = FoodDataset('testing')

def generate_annotation(mode):
    # 建立标注文件
    with open('{}/{}.txt'.format(DATA_ROOT, mode), 'w') as f:
        # 对应每个用途的数据文件夹，train/valid/test
        train_dir = '{}/{}'.format(DATA_ROOT, mode)

        # 图像样本所在的路径
        image_path = '{}'.format(train_dir)

        # 遍历所有图像
        for image in os.listdir(image_path):
            # 图像完整路径和名称
            image_file = '{}/{}'.format(image_path, image)
            for k in image:
                if k=='_':   # 如果图片名称有下划线‘—’
                    stop = image.index(k)   # 下划线所在索引
                    label_index = image[0:stop] # image的索引从0——下划线前的数字为为图片的标签
                    label_index =int(label_index)

            try:
                # 验证图片格式是否ok
                with open(image_file, 'rb') as f_img:
                    image = Image.open(io.BytesIO(f_img.read()))
                    image.load()
                    if image.mode == 'RGB':
                        f.write('{}\t{}\n'.format(image_file, label_index))
            except:
                continue


generate_annotation('training')  # 生成训练集标注文件
generate_annotation('validation')  # 生成验证集标注文件
# -------------------------------
# 模型定义
# -------------------------------
class ResNetModel(paddle.nn.Layer):
    def __init__(self):
        super(ResNetModel, self).__init__()
        self.backbone = paddle.vision.models.resnet50(pretrained=True)  # 使用预训练模型
        self.backbone.fc = paddle.nn.Linear(2048, 11)  # 修改最后全连接层

    def forward(self, x):
        return self.backbone(x)


# 实例化模型
network = ResNetModel()

# -------------------------------
# 模型训练与评估
# -------------------------------
# 训练配置
inputs = paddle.static.InputSpec(shape=[None, 3, 100, 100], dtype='float32', name='inputs')
labels = paddle.static.InputSpec(shape=[None], dtype='int64', name='labels')
model = paddle.Model(network, inputs=inputs, labels=labels)

scheduler = paddle.optimizer.lr.CosineAnnealingDecay(learning_rate=0.001, T_max=20)
optimizer = paddle.optimizer.AdamW(learning_rate=scheduler, parameters=model.parameters())

model.prepare(optimizer, paddle.nn.CrossEntropyLoss(), paddle.metric.Accuracy())

# 模型训练
model.fit(
    training_dataset,
    validation_dataset,
    epochs=50,
    batch_size=128,
    verbose=1,
    callbacks=[
        paddle.callbacks.VisualDL(log_dir='visualdl_log'),
        paddle.callbacks.EarlyStopping(monitor='loss', patience=5)
    ]
)

# 模型保存
model.save('./finetuning/food-11', training=True)

# -------------------------------
# 模型测试与分析
# -------------------------------
model.evaluate(validation_dataset, batch_size=128, verbose=1)

# 加载模型进行预测
model.load('finetuning/food-11.pdparams')
model.prepare()

result = model.predict(testing_dataset)
y_true = [int(label[1]) for label in testing_dataset.data]
y_pred = [np.argmax(res) for res in result[0]]

print(classification_report(y_true, y_pred, target_names=LABEL_MAP))

# -------------------------------
# 可视化部分
# -------------------------------


rcParams['font.sans-serif'] = ['SimHei']
rcParams['axes.unicode_minus'] = False

idx = 1520
img_path = f'work/food-11/testing/{idx}.jpg'
predict_label = y_pred[idx]

print(f'样本ID：{idx}, 预测标签：{LABEL_MAP[predict_label]} ({predict_label})')

image = Image.open(img_path)
plt.figure(figsize=(10, 6))
plt.imshow(image)
plt.title(f'预测结果: {LABEL_MAP[predict_label]} ({predict_label})')
plt.show()
